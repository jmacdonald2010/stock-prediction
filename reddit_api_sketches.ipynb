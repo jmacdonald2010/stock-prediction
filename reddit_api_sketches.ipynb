{
 "metadata": {
  "language_info": {
   "codemirror_mode": {
    "name": "ipython",
    "version": 3
   },
   "file_extension": ".py",
   "mimetype": "text/x-python",
   "name": "python",
   "nbconvert_exporter": "python",
   "pygments_lexer": "ipython3",
   "version": "3.8.5"
  },
  "orig_nbformat": 2,
  "kernelspec": {
   "name": "python385jvsc74a57bd0dca0ade3e726a953b501b15e8e990130d2b7799f14cfd9f4271676035ebe5511",
   "display_name": "Python 3.8.5 64-bit ('base': conda)"
  }
 },
 "nbformat": 4,
 "nbformat_minor": 2,
 "cells": [
  {
   "cell_type": "code",
   "execution_count": 3,
   "metadata": {},
   "outputs": [],
   "source": [
    "import praw\n",
    "import reddit_auth"
   ]
  },
  {
   "cell_type": "code",
   "execution_count": 5,
   "metadata": {},
   "outputs": [],
   "source": [
    "reddit = praw.Reddit(\n",
    "    client_id=reddit_auth.client_id,\n",
    "    client_secret=reddit_auth.client_secret,\n",
    "    user_agent = reddit_auth.user_agent\n",
    ")"
   ]
  },
  {
   "cell_type": "code",
   "execution_count": 6,
   "metadata": {},
   "outputs": [
    {
     "output_type": "stream",
     "name": "stdout",
     "text": [
      "True\n"
     ]
    }
   ],
   "source": [
    "print(reddit.read_only)"
   ]
  },
  {
   "cell_type": "code",
   "execution_count": 9,
   "metadata": {},
   "outputs": [
    {
     "output_type": "stream",
     "name": "stdout",
     "text": [
      "ATOS\nATOS\nAGTC\n"
     ]
    }
   ],
   "source": [
    "for post in reddit.subreddit(\"RobinhoodPennyStocks\").hot(limit=10):\n",
    "    # print(post.title)\n",
    "    title = post.title.split()\n",
    "    for word in title:\n",
    "        if word.isupper():\n",
    "            print(word)"
   ]
  },
  {
   "cell_type": "code",
   "execution_count": 23,
   "metadata": {},
   "outputs": [
    {
     "output_type": "execute_result",
     "data": {
      "text/plain": [
       "['ATOS?',\n",
       " 'ATOS',\n",
       " 'ATOS?',\n",
       " 'AGTC',\n",
       " 'STILL',\n",
       " 'TRCH,',\n",
       " 'AHT,',\n",
       " 'CTXR,',\n",
       " 'LKCO,',\n",
       " 'OBSV,',\n",
       " 'FAMI,',\n",
       " 'JAGX!',\n",
       " 'TRCH,',\n",
       " 'AHT,',\n",
       " 'CTXR',\n",
       " '$GGII',\n",
       " '$GVSI',\n",
       " '$ILUS',\n",
       " 'BNGO',\n",
       " 'CTK',\n",
       " 'SNDL',\n",
       " 'ATOS',\n",
       " 'SMART',\n",
       " 'GME',\n",
       " 'ATOS',\n",
       " 'ABEO',\n",
       " 'RRD',\n",
       " 'RRD”',\n",
       " 'RRD',\n",
       " 'RRD.',\n",
       " 'RRD',\n",
       " 'RRD.',\n",
       " 'RRD.',\n",
       " 'WTF',\n",
       " 'ACRX',\n",
       " 'ER?',\n",
       " ':D',\n",
       " 'AGTC?',\n",
       " 'LFG!!',\n",
       " 'OTM',\n",
       " 'AGTC',\n",
       " 'ZOM',\n",
       " 'CTRM',\n",
       " 'DD',\n",
       " 'BB',\n",
       " 'BNGO.',\n",
       " 'MNMD',\n",
       " 'SOS.',\n",
       " 'HCMC.....',\n",
       " '$VIRI',\n",
       " 'AMC',\n",
       " 'GME...',\n",
       " '$SENS',\n",
       " 'WKHS',\n",
       " '$JUDE',\n",
       " 'JUDE']"
      ]
     },
     "metadata": {},
     "execution_count": 23
    }
   ],
   "source": [
    "popular_stocks = []\n",
    "for post in reddit.subreddit(\"RobinhoodPennyStocks\").hot(limit=10):\n",
    "    comments = post.comments\n",
    "    for top_level_comment in post.comments:\n",
    "        if isinstance(top_level_comment, praw.models.MoreComments):\n",
    "            continue\n",
    "        # print(top_level_comment.body)\n",
    "        words = top_level_comment.body.split()\n",
    "        for word in words:\n",
    "            if len(word) == 1:\n",
    "                continue\n",
    "            if word.isupper():\n",
    "                popular_stocks.append(word)\n",
    "            elif \"$\" in word:\n",
    "                word = word.replace(\"$\", \"\")    # This is going to need a regex to parse these out effectively\n",
    "                if word.isupper():\n",
    "                    popular_stocks.append(word)\n",
    "popular_stocks"
   ]
  }
 ]
}