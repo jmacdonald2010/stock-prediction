{
 "metadata": {
  "language_info": {
   "codemirror_mode": {
    "name": "ipython",
    "version": 3
   },
   "file_extension": ".py",
   "mimetype": "text/x-python",
   "name": "python",
   "nbconvert_exporter": "python",
   "pygments_lexer": "ipython3",
   "version": "3.8.5"
  },
  "orig_nbformat": 2,
  "kernelspec": {
   "name": "python385jvsc74a57bd004ac14935f6ed29b3349ee8f41114d2dfa2ba78ce87cf701ad9b7ca15955b787",
   "display_name": "Python 3.8.5 64-bit ('base': conda)"
  }
 },
 "nbformat": 4,
 "nbformat_minor": 2,
 "cells": [
  {
   "source": [
    "# Reddit research tool\n",
    " \n",
    "A simple script using reddit's API to see what securities are popular at a given point.\n",
    "Will likely get intergrated with other parts of the project at a later date."
   ],
   "cell_type": "markdown",
   "metadata": {}
  },
  {
   "cell_type": "code",
   "execution_count": 7,
   "metadata": {},
   "outputs": [],
   "source": [
    "import praw\n",
    "import reddit_auth\n",
    "import re"
   ]
  },
  {
   "cell_type": "code",
   "execution_count": 8,
   "metadata": {},
   "outputs": [],
   "source": [
    "reddit = praw.Reddit(\n",
    "    client_id=reddit_auth.client_id,\n",
    "    client_secret=reddit_auth.client_secret,\n",
    "    user_agent = reddit_auth.user_agent\n",
    ")"
   ]
  },
  {
   "cell_type": "code",
   "execution_count": 4,
   "metadata": {},
   "outputs": [
    {
     "output_type": "stream",
     "name": "stdout",
     "text": [
      "True\n"
     ]
    }
   ],
   "source": [
    "print(reddit.read_only)"
   ]
  },
  {
   "cell_type": "code",
   "execution_count": 9,
   "metadata": {},
   "outputs": [
    {
     "output_type": "stream",
     "name": "stdout",
     "text": [
      "ATOS\nATOS\nAGTC\n"
     ]
    }
   ],
   "source": [
    "for post in reddit.subreddit(\"RobinhoodPennyStocks\").hot(limit=10):\n",
    "    # print(post.title)\n",
    "    title = post.title.split()\n",
    "    for word in title:\n",
    "        if word.isupper():\n",
    "            print(word)"
   ]
  },
  {
   "cell_type": "code",
   "execution_count": 19,
   "metadata": {},
   "outputs": [
    {
     "output_type": "execute_result",
     "data": {
      "text/plain": [
       "['ZOM',\n",
       " 'ZOM',\n",
       " 'ZOM',\n",
       " 'ZOM',\n",
       " 'ZOM',\n",
       " 'PD',\n",
       " 'SHIP',\n",
       " 'SHIP',\n",
       " 'SHIP',\n",
       " 'SHIP',\n",
       " 'SHIP',\n",
       " 'SHIP',\n",
       " 'ATOS',\n",
       " 'ATOS',\n",
       " 'ATOS',\n",
       " 'U',\n",
       " 'EVC',\n",
       " 'JOB',\n",
       " 'K',\n",
       " 'K',\n",
       " 'AGTC',\n",
       " 'ATOS',\n",
       " 'CTXR',\n",
       " 'AGTC',\n",
       " 'FAMI',\n",
       " 'BNGO',\n",
       " 'CTXR',\n",
       " 'KOD',\n",
       " 'ASXC',\n",
       " 'STILL',\n",
       " 'TRCH',\n",
       " 'AHT',\n",
       " 'CTXR',\n",
       " 'LKCO',\n",
       " 'JAGX',\n",
       " 'OBSV',\n",
       " 'FAMI',\n",
       " 'MOTS',\n",
       " 'ATOS',\n",
       " 'MOTS',\n",
       " 'EAST',\n",
       " 'JOB',\n",
       " 'CBDD',\n",
       " 'AGTC',\n",
       " 'STILL',\n",
       " 'TRCH',\n",
       " 'AHT',\n",
       " 'CTXR',\n",
       " 'LKCO',\n",
       " 'OBSV',\n",
       " 'FAMI',\n",
       " 'JAGX',\n",
       " 'TRCH',\n",
       " 'AHT',\n",
       " 'CTXR',\n",
       " 'GGII',\n",
       " 'GVSI',\n",
       " 'ILUS',\n",
       " 'BNGO',\n",
       " 'CTK',\n",
       " 'SNDL',\n",
       " 'ATOS',\n",
       " 'SMART',\n",
       " 'ABEO',\n",
       " 'GME',\n",
       " 'ATOS',\n",
       " 'RRD',\n",
       " 'RRD',\n",
       " 'RRD',\n",
       " 'RRD',\n",
       " 'RRD',\n",
       " 'RRD',\n",
       " 'RRD']"
      ]
     },
     "metadata": {},
     "execution_count": 19
    }
   ],
   "source": [
    "popular_stocks = []\n",
    "not_stocks = ['NSFW', 'OP', 'LOL', 'OMG']\n",
    "for post in reddit.subreddit(\"RobinhoodPennyStocks\").hot(limit=20):\n",
    "    comments = post.comments\n",
    "    for top_level_comment in post.comments:\n",
    "        if isinstance(top_level_comment, praw.models.MoreComments):\n",
    "            continue\n",
    "        # print(top_level_comment.body)\n",
    "        words = top_level_comment.body.split()\n",
    "        for word in words:\n",
    "            if len(word) == 1:\n",
    "                continue\n",
    "            if word.isupper():\n",
    "                word = re.sub('[^a-zA-Z]+', '', word)\n",
    "                if word in not_stocks:\n",
    "                    continue\n",
    "                popular_stocks.append(word)\n",
    "            elif \"$\" in word:\n",
    "                # word = word.replace(\"$\", \"\")    # This is going to need a regex to parse these out effectively\n",
    "                word = re.sub('[^a-zA-Z]+', '', word)\n",
    "                if word in not_stocks:\n",
    "                    continue\n",
    "                if word.isupper():\n",
    "                    popular_stocks.append(word)\n",
    "popular_stocks"
   ]
  },
  {
   "cell_type": "code",
   "execution_count": 25,
   "metadata": {},
   "outputs": [
    {
     "output_type": "execute_result",
     "data": {
      "text/plain": [
       "{'ZOM': 5,\n",
       " 'PD': 1,\n",
       " 'SHIP': 6,\n",
       " 'ATOS': 7,\n",
       " 'U': 1,\n",
       " 'EVC': 1,\n",
       " 'JOB': 2,\n",
       " 'K': 2,\n",
       " 'AGTC': 3,\n",
       " 'CTXR': 5,\n",
       " 'FAMI': 3,\n",
       " 'BNGO': 2,\n",
       " 'KOD': 1,\n",
       " 'ASXC': 1,\n",
       " 'STILL': 2,\n",
       " 'TRCH': 3,\n",
       " 'AHT': 3,\n",
       " 'LKCO': 2,\n",
       " 'JAGX': 2,\n",
       " 'OBSV': 2,\n",
       " 'MOTS': 2,\n",
       " 'EAST': 1,\n",
       " 'CBDD': 1,\n",
       " 'GGII': 1,\n",
       " 'GVSI': 1,\n",
       " 'ILUS': 1,\n",
       " 'CTK': 1,\n",
       " 'SNDL': 1,\n",
       " 'SMART': 1,\n",
       " 'ABEO': 1,\n",
       " 'GME': 1,\n",
       " 'RRD': 7}"
      ]
     },
     "metadata": {},
     "execution_count": 25
    }
   ],
   "source": [
    "stock_mention_count = {}\n",
    "for stock in popular_stocks:\n",
    "    if stock not in stock_mention_count:\n",
    "        stock_mention_count[stock] = 1\n",
    "    elif stock_mention_count[stock] >= 1:\n",
    "        stock_mention_count[stock] += 1\n",
    "\n",
    "stock_mention_count"
   ]
  }
 ]
}