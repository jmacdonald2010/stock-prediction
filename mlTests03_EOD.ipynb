{
 "metadata": {
  "language_info": {
   "codemirror_mode": {
    "name": "ipython",
    "version": 3
   },
   "file_extension": ".py",
   "mimetype": "text/x-python",
   "name": "python",
   "nbconvert_exporter": "python",
   "pygments_lexer": "ipython3",
   "version": 3
  },
  "orig_nbformat": 2
 },
 "nbformat": 4,
 "nbformat_minor": 2,
 "cells": [
  {
   "source": [
    "# EOD Price History Prediction\n",
    "*This notebook is intended to predict price movements based on EOD closing prices. At this time, this notebook will need to be paused, as there were some errors in data collection.*"
   ],
   "cell_type": "markdown",
   "metadata": {}
  },
  {
   "cell_type": "code",
   "execution_count": null,
   "metadata": {},
   "outputs": [],
   "source": [
    "import pandas as pd\n",
    "import numpy as np\n",
    "import matplotlib.pyplot as plt\n",
    "import tensorflow as tf\n",
    "import sqlite3\n",
    "from sklearn.preprocessing import MinMaxScaler\n",
    "from sklearn.impute import KNNImputer"
   ]
  },
  {
   "cell_type": "code",
   "execution_count": null,
   "metadata": {},
   "outputs": [],
   "source": [
    "conn = sqlite3.connect('stockPrediction.db')\n",
    "\n",
    "query = \"SELECT r.stock_symbol, l.price_datetime, l.open_price, l.high_price, l.low_price, l.close_price, l.volume, l.dividends, l.stock_splits FROM price_history l INNER JOIN stock r ON r.stock_id = l.stock_id;\"\n",
    "\n",
    "symbols = conn.execute('SELECT stock_symbol FROM stock')\n",
    "symbols = symbols.fetchall()\n",
    "symbols = [i[0] for i in symbols]\n",
    "symbols = [i for i in symbols if i not in symbols]\n",
    "\n",
    "# columns = pd.MultiIndex.from_product([[i for i in symbols], ['open_price', 'high_price', 'low_price', 'close_price']], names=['symbol', 'type'])\n",
    "\n",
    "df = pd.read_sql(query, conn, index_col=['stock_symbol', 'price_datetime'])\n",
    "\n",
    "# Two\n",
    "\n",
    "# remove stocks w/ less than 1000 data points\n",
    "s = df.groupby(level=0).size()\n",
    "# s = s.where(s > 1000).dropna()\n",
    "s = s.where(s > 1550).dropna()  # playing around w/ different values here to get a model that can actually be trained\n",
    "dfs = s.to_frame()\n",
    "dfs = dfs.reset_index()\n",
    "df = df.reset_index()\n",
    "# dfs\n",
    "\n",
    "# Three\n",
    "df = pd.merge(df, dfs, how='inner', left_on='stock_symbol', right_on='stock_symbol', left_index=True)\n",
    "df = df.drop_duplicates()\n",
    "# this line below added in on 5/14 22:37:\n",
    "df = df.drop(columns=[0])\n",
    "\n",
    "# Four\n",
    "\n",
    "# df = df.drop_duplicates(subset=['price_datetime'])\n",
    "df = df.set_index(['price_datetime', 'stock_symbol']).unstack(['stock_symbol'])\n",
    "df"
   ]
  }
 ]
}