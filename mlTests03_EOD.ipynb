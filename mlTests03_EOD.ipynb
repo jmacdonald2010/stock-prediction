{
 "metadata": {
  "language_info": {
   "codemirror_mode": {
    "name": "ipython",
    "version": 3
   },
   "file_extension": ".py",
   "mimetype": "text/x-python",
   "name": "python",
   "nbconvert_exporter": "python",
   "pygments_lexer": "ipython3",
   "version": "3.8.5"
  },
  "orig_nbformat": 2,
  "kernelspec": {
   "name": "python385jvsc74a57bd004ac14935f6ed29b3349ee8f41114d2dfa2ba78ce87cf701ad9b7ca15955b787",
   "display_name": "Python 3.8.5 64-bit ('base': conda)"
  }
 },
 "nbformat": 4,
 "nbformat_minor": 2,
 "cells": [
  {
   "source": [
    "# EOD Price History Prediction\n",
    "*This notebook is intended to predict price movements based on EOD closing prices. At this time, this notebook will need to be paused, as there were some errors in data collection.*"
   ],
   "cell_type": "markdown",
   "metadata": {}
  },
  {
   "cell_type": "code",
   "execution_count": 3,
   "metadata": {},
   "outputs": [],
   "source": [
    "import pandas as pd\n",
    "import numpy as np\n",
    "import matplotlib.pyplot as plt\n",
    "import tensorflow as tf\n",
    "import sqlite3\n",
    "from sklearn.preprocessing import MinMaxScaler\n",
    "from sklearn.impute import KNNImputer"
   ]
  },
  {
   "cell_type": "code",
   "execution_count": 4,
   "metadata": {},
   "outputs": [
    {
     "output_type": "execute_result",
     "data": {
      "text/plain": [
       "               open_price                                                  \\\n",
       "stock_symbol         AACG    AAGFF  AAIC  AAME   AAU  ABEO    ABEPF  ABEV   \n",
       "price_datetime                                                              \n",
       "1972-06-01            NaN      NaN   NaN   NaN   NaN   NaN      NaN   NaN   \n",
       "1972-06-02            NaN      NaN   NaN   NaN   NaN   NaN      NaN   NaN   \n",
       "1972-06-05            NaN      NaN   NaN   NaN   NaN   NaN      NaN   NaN   \n",
       "1972-06-06            NaN      NaN   NaN   NaN   NaN   NaN      NaN   NaN   \n",
       "1972-06-07            NaN      NaN   NaN   NaN   NaN   NaN      NaN   NaN   \n",
       "...                   ...      ...   ...   ...   ...   ...      ...   ...   \n",
       "2021-05-20           2.83  0.39800  3.95  4.07  0.55  1.50  0.10800  3.34   \n",
       "2021-05-21           2.89  0.47000  4.05  4.20  0.56  1.60  0.09300  3.35   \n",
       "2021-05-24           2.92  0.49100  4.09  4.38  0.54  1.57  0.09200  3.32   \n",
       "2021-05-25           2.84  0.49401  4.02  4.14  0.55  1.54  0.10470  3.36   \n",
       "2021-05-26           2.84  0.47200  4.05  4.14  0.55  1.54  0.11902  3.36   \n",
       "\n",
       "                               ... stock_splits                            \\\n",
       "stock_symbol    ABIO     ABMC  ...         YUII  YVR ZDPY ZIMCF ZIOP ZIVO   \n",
       "price_datetime                 ...                                          \n",
       "1972-06-01       NaN      NaN  ...          NaN  NaN  NaN   NaN  NaN  NaN   \n",
       "1972-06-02       NaN      NaN  ...          NaN  NaN  NaN   NaN  NaN  NaN   \n",
       "1972-06-05       NaN      NaN  ...          NaN  NaN  NaN   NaN  NaN  NaN   \n",
       "1972-06-06       NaN      NaN  ...          NaN  NaN  NaN   NaN  NaN  NaN   \n",
       "1972-06-07       NaN      NaN  ...          NaN  NaN  NaN   NaN  NaN  NaN   \n",
       "...              ...      ...  ...          ...  ...  ...   ...  ...  ...   \n",
       "2021-05-20      3.34  0.06000  ...            0  0.0  0.0   0.0    0    0   \n",
       "2021-05-21      3.37  0.07000  ...            0  0.0  0.0   0.0    0    0   \n",
       "2021-05-24      3.34  0.06000  ...            0  0.0  0.0   0.0    0    0   \n",
       "2021-05-25      3.25  0.06120  ...            0  0.0  0.0   0.0    0    0   \n",
       "2021-05-26      3.25  0.05965  ...          NaN  0.0  0.0   NaN    0    0   \n",
       "\n",
       "                                     \n",
       "stock_symbol   ZMWYF ZNOG ZSAN ZTNO  \n",
       "price_datetime                       \n",
       "1972-06-01       NaN  NaN  NaN  NaN  \n",
       "1972-06-02       NaN  NaN  NaN  NaN  \n",
       "1972-06-05       NaN  NaN  NaN  NaN  \n",
       "1972-06-06       NaN  NaN  NaN  NaN  \n",
       "1972-06-07       NaN  NaN  NaN  NaN  \n",
       "...              ...  ...  ...  ...  \n",
       "2021-05-20       0.0    0  0.0  0.0  \n",
       "2021-05-21       0.0    0  0.0  0.0  \n",
       "2021-05-24       0.0    0  0.0  0.0  \n",
       "2021-05-25       0.0    0  0.0  0.0  \n",
       "2021-05-26       0.0    0  0.0  0.0  \n",
       "\n",
       "[12357 rows x 9786 columns]"
      ],
      "text/html": "<div>\n<style scoped>\n    .dataframe tbody tr th:only-of-type {\n        vertical-align: middle;\n    }\n\n    .dataframe tbody tr th {\n        vertical-align: top;\n    }\n\n    .dataframe thead tr th {\n        text-align: left;\n    }\n\n    .dataframe thead tr:last-of-type th {\n        text-align: right;\n    }\n</style>\n<table border=\"1\" class=\"dataframe\">\n  <thead>\n    <tr>\n      <th></th>\n      <th colspan=\"10\" halign=\"left\">open_price</th>\n      <th>...</th>\n      <th colspan=\"10\" halign=\"left\">stock_splits</th>\n    </tr>\n    <tr>\n      <th>stock_symbol</th>\n      <th>AACG</th>\n      <th>AAGFF</th>\n      <th>AAIC</th>\n      <th>AAME</th>\n      <th>AAU</th>\n      <th>ABEO</th>\n      <th>ABEPF</th>\n      <th>ABEV</th>\n      <th>ABIO</th>\n      <th>ABMC</th>\n      <th>...</th>\n      <th>YUII</th>\n      <th>YVR</th>\n      <th>ZDPY</th>\n      <th>ZIMCF</th>\n      <th>ZIOP</th>\n      <th>ZIVO</th>\n      <th>ZMWYF</th>\n      <th>ZNOG</th>\n      <th>ZSAN</th>\n      <th>ZTNO</th>\n    </tr>\n    <tr>\n      <th>price_datetime</th>\n      <th></th>\n      <th></th>\n      <th></th>\n      <th></th>\n      <th></th>\n      <th></th>\n      <th></th>\n      <th></th>\n      <th></th>\n      <th></th>\n      <th></th>\n      <th></th>\n      <th></th>\n      <th></th>\n      <th></th>\n      <th></th>\n      <th></th>\n      <th></th>\n      <th></th>\n      <th></th>\n      <th></th>\n    </tr>\n  </thead>\n  <tbody>\n    <tr>\n      <th>1972-06-01</th>\n      <td>NaN</td>\n      <td>NaN</td>\n      <td>NaN</td>\n      <td>NaN</td>\n      <td>NaN</td>\n      <td>NaN</td>\n      <td>NaN</td>\n      <td>NaN</td>\n      <td>NaN</td>\n      <td>NaN</td>\n      <td>...</td>\n      <td>NaN</td>\n      <td>NaN</td>\n      <td>NaN</td>\n      <td>NaN</td>\n      <td>NaN</td>\n      <td>NaN</td>\n      <td>NaN</td>\n      <td>NaN</td>\n      <td>NaN</td>\n      <td>NaN</td>\n    </tr>\n    <tr>\n      <th>1972-06-02</th>\n      <td>NaN</td>\n      <td>NaN</td>\n      <td>NaN</td>\n      <td>NaN</td>\n      <td>NaN</td>\n      <td>NaN</td>\n      <td>NaN</td>\n      <td>NaN</td>\n      <td>NaN</td>\n      <td>NaN</td>\n      <td>...</td>\n      <td>NaN</td>\n      <td>NaN</td>\n      <td>NaN</td>\n      <td>NaN</td>\n      <td>NaN</td>\n      <td>NaN</td>\n      <td>NaN</td>\n      <td>NaN</td>\n      <td>NaN</td>\n      <td>NaN</td>\n    </tr>\n    <tr>\n      <th>1972-06-05</th>\n      <td>NaN</td>\n      <td>NaN</td>\n      <td>NaN</td>\n      <td>NaN</td>\n      <td>NaN</td>\n      <td>NaN</td>\n      <td>NaN</td>\n      <td>NaN</td>\n      <td>NaN</td>\n      <td>NaN</td>\n      <td>...</td>\n      <td>NaN</td>\n      <td>NaN</td>\n      <td>NaN</td>\n      <td>NaN</td>\n      <td>NaN</td>\n      <td>NaN</td>\n      <td>NaN</td>\n      <td>NaN</td>\n      <td>NaN</td>\n      <td>NaN</td>\n    </tr>\n    <tr>\n      <th>1972-06-06</th>\n      <td>NaN</td>\n      <td>NaN</td>\n      <td>NaN</td>\n      <td>NaN</td>\n      <td>NaN</td>\n      <td>NaN</td>\n      <td>NaN</td>\n      <td>NaN</td>\n      <td>NaN</td>\n      <td>NaN</td>\n      <td>...</td>\n      <td>NaN</td>\n      <td>NaN</td>\n      <td>NaN</td>\n      <td>NaN</td>\n      <td>NaN</td>\n      <td>NaN</td>\n      <td>NaN</td>\n      <td>NaN</td>\n      <td>NaN</td>\n      <td>NaN</td>\n    </tr>\n    <tr>\n      <th>1972-06-07</th>\n      <td>NaN</td>\n      <td>NaN</td>\n      <td>NaN</td>\n      <td>NaN</td>\n      <td>NaN</td>\n      <td>NaN</td>\n      <td>NaN</td>\n      <td>NaN</td>\n      <td>NaN</td>\n      <td>NaN</td>\n      <td>...</td>\n      <td>NaN</td>\n      <td>NaN</td>\n      <td>NaN</td>\n      <td>NaN</td>\n      <td>NaN</td>\n      <td>NaN</td>\n      <td>NaN</td>\n      <td>NaN</td>\n      <td>NaN</td>\n      <td>NaN</td>\n    </tr>\n    <tr>\n      <th>...</th>\n      <td>...</td>\n      <td>...</td>\n      <td>...</td>\n      <td>...</td>\n      <td>...</td>\n      <td>...</td>\n      <td>...</td>\n      <td>...</td>\n      <td>...</td>\n      <td>...</td>\n      <td>...</td>\n      <td>...</td>\n      <td>...</td>\n      <td>...</td>\n      <td>...</td>\n      <td>...</td>\n      <td>...</td>\n      <td>...</td>\n      <td>...</td>\n      <td>...</td>\n      <td>...</td>\n    </tr>\n    <tr>\n      <th>2021-05-20</th>\n      <td>2.83</td>\n      <td>0.39800</td>\n      <td>3.95</td>\n      <td>4.07</td>\n      <td>0.55</td>\n      <td>1.50</td>\n      <td>0.10800</td>\n      <td>3.34</td>\n      <td>3.34</td>\n      <td>0.06000</td>\n      <td>...</td>\n      <td>0</td>\n      <td>0.0</td>\n      <td>0.0</td>\n      <td>0.0</td>\n      <td>0</td>\n      <td>0</td>\n      <td>0.0</td>\n      <td>0</td>\n      <td>0.0</td>\n      <td>0.0</td>\n    </tr>\n    <tr>\n      <th>2021-05-21</th>\n      <td>2.89</td>\n      <td>0.47000</td>\n      <td>4.05</td>\n      <td>4.20</td>\n      <td>0.56</td>\n      <td>1.60</td>\n      <td>0.09300</td>\n      <td>3.35</td>\n      <td>3.37</td>\n      <td>0.07000</td>\n      <td>...</td>\n      <td>0</td>\n      <td>0.0</td>\n      <td>0.0</td>\n      <td>0.0</td>\n      <td>0</td>\n      <td>0</td>\n      <td>0.0</td>\n      <td>0</td>\n      <td>0.0</td>\n      <td>0.0</td>\n    </tr>\n    <tr>\n      <th>2021-05-24</th>\n      <td>2.92</td>\n      <td>0.49100</td>\n      <td>4.09</td>\n      <td>4.38</td>\n      <td>0.54</td>\n      <td>1.57</td>\n      <td>0.09200</td>\n      <td>3.32</td>\n      <td>3.34</td>\n      <td>0.06000</td>\n      <td>...</td>\n      <td>0</td>\n      <td>0.0</td>\n      <td>0.0</td>\n      <td>0.0</td>\n      <td>0</td>\n      <td>0</td>\n      <td>0.0</td>\n      <td>0</td>\n      <td>0.0</td>\n      <td>0.0</td>\n    </tr>\n    <tr>\n      <th>2021-05-25</th>\n      <td>2.84</td>\n      <td>0.49401</td>\n      <td>4.02</td>\n      <td>4.14</td>\n      <td>0.55</td>\n      <td>1.54</td>\n      <td>0.10470</td>\n      <td>3.36</td>\n      <td>3.25</td>\n      <td>0.06120</td>\n      <td>...</td>\n      <td>0</td>\n      <td>0.0</td>\n      <td>0.0</td>\n      <td>0.0</td>\n      <td>0</td>\n      <td>0</td>\n      <td>0.0</td>\n      <td>0</td>\n      <td>0.0</td>\n      <td>0.0</td>\n    </tr>\n    <tr>\n      <th>2021-05-26</th>\n      <td>2.84</td>\n      <td>0.47200</td>\n      <td>4.05</td>\n      <td>4.14</td>\n      <td>0.55</td>\n      <td>1.54</td>\n      <td>0.11902</td>\n      <td>3.36</td>\n      <td>3.25</td>\n      <td>0.05965</td>\n      <td>...</td>\n      <td>NaN</td>\n      <td>0.0</td>\n      <td>0.0</td>\n      <td>NaN</td>\n      <td>0</td>\n      <td>0</td>\n      <td>0.0</td>\n      <td>0</td>\n      <td>0.0</td>\n      <td>0.0</td>\n    </tr>\n  </tbody>\n</table>\n<p>12357 rows × 9786 columns</p>\n</div>"
     },
     "metadata": {},
     "execution_count": 4
    }
   ],
   "source": [
    "conn = sqlite3.connect('stockPrediction_05262021.db')\n",
    "\n",
    "query = \"SELECT r.stock_symbol, l.price_datetime, l.open_price, l.high_price, l.low_price, l.close_price, l.volume, l.dividends, l.stock_splits FROM eod_price_history l INNER JOIN stock r ON r.stock_id = l.stock_id;\"\n",
    "\n",
    "symbols = conn.execute('SELECT stock_symbol FROM stock')\n",
    "symbols = symbols.fetchall()\n",
    "symbols = [i[0] for i in symbols]\n",
    "symbols = [i for i in symbols if i not in symbols]\n",
    "\n",
    "# columns = pd.MultiIndex.from_product([[i for i in symbols], ['open_price', 'high_price', 'low_price', 'close_price']], names=['symbol', 'type'])\n",
    "\n",
    "df = pd.read_sql(query, conn, index_col=['stock_symbol', 'price_datetime'])\n",
    "\n",
    "# Two\n",
    "\n",
    "# remove stocks w/ less than 1000 data points\n",
    "s = df.groupby(level=0).size()\n",
    "# s = s.where(s > 1000).dropna()\n",
    "s = s.where(s > 1550).dropna()  # playing around w/ different values here to get a model that can actually be trained\n",
    "dfs = s.to_frame()\n",
    "dfs = dfs.reset_index()\n",
    "df = df.reset_index()\n",
    "# dfs\n",
    "\n",
    "# Three\n",
    "df = pd.merge(df, dfs, how='inner', left_on='stock_symbol', right_on='stock_symbol', left_index=True)\n",
    "df = df.drop_duplicates()\n",
    "# this line below added in on 5/14 22:37:\n",
    "df = df.drop(columns=[0])\n",
    "\n",
    "# Four\n",
    "\n",
    "# df = df.drop_duplicates(subset=['price_datetime'])\n",
    "df = df.set_index(['price_datetime', 'stock_symbol']).unstack(['stock_symbol'])\n",
    "df"
   ]
  },
  {
   "cell_type": "code",
   "execution_count": 5,
   "metadata": {},
   "outputs": [],
   "source": [
    "df = df.reset_index()\n",
    "df['price_datetime'] = pd.to_datetime(df['price_datetime'])\n",
    "df = df.set_index('price_datetime')"
   ]
  },
  {
   "cell_type": "code",
   "execution_count": 6,
   "metadata": {},
   "outputs": [
    {
     "output_type": "execute_result",
     "data": {
      "text/plain": [
       "               open_price                                                  \\\n",
       "stock_symbol         AACG    AAGFF  AAIC  AAME   AAU  ABEO    ABEPF  ABEV   \n",
       "price_datetime                                                              \n",
       "1972-06-01            NaN      NaN   NaN   NaN   NaN   NaN      NaN   NaN   \n",
       "1972-06-02            NaN      NaN   NaN   NaN   NaN   NaN      NaN   NaN   \n",
       "1972-06-05            NaN      NaN   NaN   NaN   NaN   NaN      NaN   NaN   \n",
       "1972-06-06            NaN      NaN   NaN   NaN   NaN   NaN      NaN   NaN   \n",
       "1972-06-07            NaN      NaN   NaN   NaN   NaN   NaN      NaN   NaN   \n",
       "...                   ...      ...   ...   ...   ...   ...      ...   ...   \n",
       "2021-05-20           2.83  0.39800  3.95  4.07  0.55  1.50  0.10800  3.34   \n",
       "2021-05-21           2.89  0.47000  4.05  4.20  0.56  1.60  0.09300  3.35   \n",
       "2021-05-24           2.92  0.49100  4.09  4.38  0.54  1.57  0.09200  3.32   \n",
       "2021-05-25           2.84  0.49401  4.02  4.14  0.55  1.54  0.10470  3.36   \n",
       "2021-05-26           2.84  0.47200  4.05  4.14  0.55  1.54  0.11902  3.36   \n",
       "\n",
       "                               ... stock_splits                            \\\n",
       "stock_symbol    ABIO     ABMC  ...         YUII  YVR ZDPY ZIMCF ZIOP ZIVO   \n",
       "price_datetime                 ...                                          \n",
       "1972-06-01       NaN      NaN  ...          NaN  NaN  NaN   NaN  NaN  NaN   \n",
       "1972-06-02       NaN      NaN  ...          NaN  NaN  NaN   NaN  NaN  NaN   \n",
       "1972-06-05       NaN      NaN  ...          NaN  NaN  NaN   NaN  NaN  NaN   \n",
       "1972-06-06       NaN      NaN  ...          NaN  NaN  NaN   NaN  NaN  NaN   \n",
       "1972-06-07       NaN      NaN  ...          NaN  NaN  NaN   NaN  NaN  NaN   \n",
       "...              ...      ...  ...          ...  ...  ...   ...  ...  ...   \n",
       "2021-05-20      3.34  0.06000  ...            0  0.0  0.0   0.0    0    0   \n",
       "2021-05-21      3.37  0.07000  ...            0  0.0  0.0   0.0    0    0   \n",
       "2021-05-24      3.34  0.06000  ...            0  0.0  0.0   0.0    0    0   \n",
       "2021-05-25      3.25  0.06120  ...            0  0.0  0.0   0.0    0    0   \n",
       "2021-05-26      3.25  0.05965  ...          NaN  0.0  0.0   NaN    0    0   \n",
       "\n",
       "                                     \n",
       "stock_symbol   ZMWYF ZNOG ZSAN ZTNO  \n",
       "price_datetime                       \n",
       "1972-06-01       NaN  NaN  NaN  NaN  \n",
       "1972-06-02       NaN  NaN  NaN  NaN  \n",
       "1972-06-05       NaN  NaN  NaN  NaN  \n",
       "1972-06-06       NaN  NaN  NaN  NaN  \n",
       "1972-06-07       NaN  NaN  NaN  NaN  \n",
       "...              ...  ...  ...  ...  \n",
       "2021-05-20       0.0    0  0.0  0.0  \n",
       "2021-05-21       0.0    0  0.0  0.0  \n",
       "2021-05-24       0.0    0  0.0  0.0  \n",
       "2021-05-25       0.0    0  0.0  0.0  \n",
       "2021-05-26       0.0    0  0.0  0.0  \n",
       "\n",
       "[12357 rows x 9786 columns]"
      ],
      "text/html": "<div>\n<style scoped>\n    .dataframe tbody tr th:only-of-type {\n        vertical-align: middle;\n    }\n\n    .dataframe tbody tr th {\n        vertical-align: top;\n    }\n\n    .dataframe thead tr th {\n        text-align: left;\n    }\n\n    .dataframe thead tr:last-of-type th {\n        text-align: right;\n    }\n</style>\n<table border=\"1\" class=\"dataframe\">\n  <thead>\n    <tr>\n      <th></th>\n      <th colspan=\"10\" halign=\"left\">open_price</th>\n      <th>...</th>\n      <th colspan=\"10\" halign=\"left\">stock_splits</th>\n    </tr>\n    <tr>\n      <th>stock_symbol</th>\n      <th>AACG</th>\n      <th>AAGFF</th>\n      <th>AAIC</th>\n      <th>AAME</th>\n      <th>AAU</th>\n      <th>ABEO</th>\n      <th>ABEPF</th>\n      <th>ABEV</th>\n      <th>ABIO</th>\n      <th>ABMC</th>\n      <th>...</th>\n      <th>YUII</th>\n      <th>YVR</th>\n      <th>ZDPY</th>\n      <th>ZIMCF</th>\n      <th>ZIOP</th>\n      <th>ZIVO</th>\n      <th>ZMWYF</th>\n      <th>ZNOG</th>\n      <th>ZSAN</th>\n      <th>ZTNO</th>\n    </tr>\n    <tr>\n      <th>price_datetime</th>\n      <th></th>\n      <th></th>\n      <th></th>\n      <th></th>\n      <th></th>\n      <th></th>\n      <th></th>\n      <th></th>\n      <th></th>\n      <th></th>\n      <th></th>\n      <th></th>\n      <th></th>\n      <th></th>\n      <th></th>\n      <th></th>\n      <th></th>\n      <th></th>\n      <th></th>\n      <th></th>\n      <th></th>\n    </tr>\n  </thead>\n  <tbody>\n    <tr>\n      <th>1972-06-01</th>\n      <td>NaN</td>\n      <td>NaN</td>\n      <td>NaN</td>\n      <td>NaN</td>\n      <td>NaN</td>\n      <td>NaN</td>\n      <td>NaN</td>\n      <td>NaN</td>\n      <td>NaN</td>\n      <td>NaN</td>\n      <td>...</td>\n      <td>NaN</td>\n      <td>NaN</td>\n      <td>NaN</td>\n      <td>NaN</td>\n      <td>NaN</td>\n      <td>NaN</td>\n      <td>NaN</td>\n      <td>NaN</td>\n      <td>NaN</td>\n      <td>NaN</td>\n    </tr>\n    <tr>\n      <th>1972-06-02</th>\n      <td>NaN</td>\n      <td>NaN</td>\n      <td>NaN</td>\n      <td>NaN</td>\n      <td>NaN</td>\n      <td>NaN</td>\n      <td>NaN</td>\n      <td>NaN</td>\n      <td>NaN</td>\n      <td>NaN</td>\n      <td>...</td>\n      <td>NaN</td>\n      <td>NaN</td>\n      <td>NaN</td>\n      <td>NaN</td>\n      <td>NaN</td>\n      <td>NaN</td>\n      <td>NaN</td>\n      <td>NaN</td>\n      <td>NaN</td>\n      <td>NaN</td>\n    </tr>\n    <tr>\n      <th>1972-06-05</th>\n      <td>NaN</td>\n      <td>NaN</td>\n      <td>NaN</td>\n      <td>NaN</td>\n      <td>NaN</td>\n      <td>NaN</td>\n      <td>NaN</td>\n      <td>NaN</td>\n      <td>NaN</td>\n      <td>NaN</td>\n      <td>...</td>\n      <td>NaN</td>\n      <td>NaN</td>\n      <td>NaN</td>\n      <td>NaN</td>\n      <td>NaN</td>\n      <td>NaN</td>\n      <td>NaN</td>\n      <td>NaN</td>\n      <td>NaN</td>\n      <td>NaN</td>\n    </tr>\n    <tr>\n      <th>1972-06-06</th>\n      <td>NaN</td>\n      <td>NaN</td>\n      <td>NaN</td>\n      <td>NaN</td>\n      <td>NaN</td>\n      <td>NaN</td>\n      <td>NaN</td>\n      <td>NaN</td>\n      <td>NaN</td>\n      <td>NaN</td>\n      <td>...</td>\n      <td>NaN</td>\n      <td>NaN</td>\n      <td>NaN</td>\n      <td>NaN</td>\n      <td>NaN</td>\n      <td>NaN</td>\n      <td>NaN</td>\n      <td>NaN</td>\n      <td>NaN</td>\n      <td>NaN</td>\n    </tr>\n    <tr>\n      <th>1972-06-07</th>\n      <td>NaN</td>\n      <td>NaN</td>\n      <td>NaN</td>\n      <td>NaN</td>\n      <td>NaN</td>\n      <td>NaN</td>\n      <td>NaN</td>\n      <td>NaN</td>\n      <td>NaN</td>\n      <td>NaN</td>\n      <td>...</td>\n      <td>NaN</td>\n      <td>NaN</td>\n      <td>NaN</td>\n      <td>NaN</td>\n      <td>NaN</td>\n      <td>NaN</td>\n      <td>NaN</td>\n      <td>NaN</td>\n      <td>NaN</td>\n      <td>NaN</td>\n    </tr>\n    <tr>\n      <th>...</th>\n      <td>...</td>\n      <td>...</td>\n      <td>...</td>\n      <td>...</td>\n      <td>...</td>\n      <td>...</td>\n      <td>...</td>\n      <td>...</td>\n      <td>...</td>\n      <td>...</td>\n      <td>...</td>\n      <td>...</td>\n      <td>...</td>\n      <td>...</td>\n      <td>...</td>\n      <td>...</td>\n      <td>...</td>\n      <td>...</td>\n      <td>...</td>\n      <td>...</td>\n      <td>...</td>\n    </tr>\n    <tr>\n      <th>2021-05-20</th>\n      <td>2.83</td>\n      <td>0.39800</td>\n      <td>3.95</td>\n      <td>4.07</td>\n      <td>0.55</td>\n      <td>1.50</td>\n      <td>0.10800</td>\n      <td>3.34</td>\n      <td>3.34</td>\n      <td>0.06000</td>\n      <td>...</td>\n      <td>0</td>\n      <td>0.0</td>\n      <td>0.0</td>\n      <td>0.0</td>\n      <td>0</td>\n      <td>0</td>\n      <td>0.0</td>\n      <td>0</td>\n      <td>0.0</td>\n      <td>0.0</td>\n    </tr>\n    <tr>\n      <th>2021-05-21</th>\n      <td>2.89</td>\n      <td>0.47000</td>\n      <td>4.05</td>\n      <td>4.20</td>\n      <td>0.56</td>\n      <td>1.60</td>\n      <td>0.09300</td>\n      <td>3.35</td>\n      <td>3.37</td>\n      <td>0.07000</td>\n      <td>...</td>\n      <td>0</td>\n      <td>0.0</td>\n      <td>0.0</td>\n      <td>0.0</td>\n      <td>0</td>\n      <td>0</td>\n      <td>0.0</td>\n      <td>0</td>\n      <td>0.0</td>\n      <td>0.0</td>\n    </tr>\n    <tr>\n      <th>2021-05-24</th>\n      <td>2.92</td>\n      <td>0.49100</td>\n      <td>4.09</td>\n      <td>4.38</td>\n      <td>0.54</td>\n      <td>1.57</td>\n      <td>0.09200</td>\n      <td>3.32</td>\n      <td>3.34</td>\n      <td>0.06000</td>\n      <td>...</td>\n      <td>0</td>\n      <td>0.0</td>\n      <td>0.0</td>\n      <td>0.0</td>\n      <td>0</td>\n      <td>0</td>\n      <td>0.0</td>\n      <td>0</td>\n      <td>0.0</td>\n      <td>0.0</td>\n    </tr>\n    <tr>\n      <th>2021-05-25</th>\n      <td>2.84</td>\n      <td>0.49401</td>\n      <td>4.02</td>\n      <td>4.14</td>\n      <td>0.55</td>\n      <td>1.54</td>\n      <td>0.10470</td>\n      <td>3.36</td>\n      <td>3.25</td>\n      <td>0.06120</td>\n      <td>...</td>\n      <td>0</td>\n      <td>0.0</td>\n      <td>0.0</td>\n      <td>0.0</td>\n      <td>0</td>\n      <td>0</td>\n      <td>0.0</td>\n      <td>0</td>\n      <td>0.0</td>\n      <td>0.0</td>\n    </tr>\n    <tr>\n      <th>2021-05-26</th>\n      <td>2.84</td>\n      <td>0.47200</td>\n      <td>4.05</td>\n      <td>4.14</td>\n      <td>0.55</td>\n      <td>1.54</td>\n      <td>0.11902</td>\n      <td>3.36</td>\n      <td>3.25</td>\n      <td>0.05965</td>\n      <td>...</td>\n      <td>NaN</td>\n      <td>0.0</td>\n      <td>0.0</td>\n      <td>NaN</td>\n      <td>0</td>\n      <td>0</td>\n      <td>0.0</td>\n      <td>0</td>\n      <td>0.0</td>\n      <td>0.0</td>\n    </tr>\n  </tbody>\n</table>\n<p>12357 rows × 9786 columns</p>\n</div>"
     },
     "metadata": {},
     "execution_count": 6
    }
   ],
   "source": [
    "df"
   ]
  }
 ]
}