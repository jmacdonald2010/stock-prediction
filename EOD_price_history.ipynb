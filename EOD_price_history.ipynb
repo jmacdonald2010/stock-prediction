{
 "metadata": {
  "language_info": {
   "codemirror_mode": {
    "name": "ipython",
    "version": 3
   },
   "file_extension": ".py",
   "mimetype": "text/x-python",
   "name": "python",
   "nbconvert_exporter": "python",
   "pygments_lexer": "ipython3",
   "version": 3
  },
  "orig_nbformat": 2
 },
 "nbformat": 4,
 "nbformat_minor": 2,
 "cells": [
  {
   "cell_type": "code",
   "execution_count": null,
   "metadata": {},
   "outputs": [],
   "source": [
    "from stock import Stock\n",
    "from stock import Price\n",
    "from stock import get_current_datetime\n",
    "import sqlite3\n",
    "from sqlite3 import Error\n",
    "import yfinance as yf\n",
    "import datetime\n",
    "import time\n",
    "import pandas as pd\n",
    "import pickle\n",
    "import numpy as np\n",
    "from sklearn.impute import KNNImputer"
   ]
  },
  {
   "cell_type": "code",
   "execution_count": null,
   "metadata": {},
   "outputs": [],
   "source": [
    "# connect to the DB, gather stock symbols, add to a list\n",
    "# create an SQLite db connection\n",
    "conn = sqlite3.connect('stockPrediction.db')\n",
    "\n",
    "# collect stock symbols from DB, add to a list\n",
    "dbq = conn.execute('SELECT stock_symbol FROM stock')\n",
    "conn.commit()\n",
    "dbq = dbq.fetchall()\n",
    "# the result from dbq.fetchall() is a list of single-element tuples\n",
    "# the list comprehension below turns it into a list of strings instead\n",
    "db_symbols = [x[0] for x in dbq]\n",
    "\n",
    "# create a dict of stock symbols and their stock_id\n",
    "dbq = conn.execute('SELECT stock_id, stock_symbol FROM stock')\n",
    "conn.commit()\n",
    "dbq = dbq.fetchall()\n",
    "stock_id_dict = dict()  # keys are ticker symbols, vals are the ID #\n",
    "    \n",
    "for x in dbq:\n",
    "    stock_id_dict[x[1]] = x[0]\n",
    "\n",
    "try:\n",
    "    infile = open('gphl_symbol', 'rb')\n",
    "    pickle_symbol = pickle.load(infile)\n",
    "    pickle_symbol_read = False\n",
    "except:\n",
    "    pickle_symbol = None\n",
    "    pickle_symbol_read = True"
   ]
  },
  {
   "cell_type": "code",
   "execution_count": null,
   "metadata": {},
   "outputs": [],
   "source": [
    "# this bit adds the EOD price history table to the db if it does not already exist.\n",
    "conn.execute('''CREATE TABLE IF NOT EXISTS eod_price_history (\n",
    "    price_id INTEGER PRIMARY KEY AUTOINCREMENT NOT NULL,\n",
    "    stock_id INTEGER NOT NULL,\n",
    "    price_datetime TEXT NOT NULL,\n",
    "    open_price REAL NOT NULL,\n",
    "    high_price REAL NOT NULL,\n",
    "    low_price REAL NOT NULL,\n",
    "    close_price REAL NOT NULL,\n",
    "    volume INTEGER NOT NULL,\n",
    "    dividends REAL,\n",
    "    stock_splits TEXT,\n",
    "    datetime_added TEXT NOT NULL,\n",
    "    FOREIGN KEY (stock_id)\n",
    "        REFERENCES stock (stock_id)\n",
    "        ON UPDATE CASCADE\n",
    "        ON DELETE CASCADE''')"
   ]
  }
 ]
}