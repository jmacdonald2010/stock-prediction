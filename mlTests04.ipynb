{
 "metadata": {
  "language_info": {
   "codemirror_mode": {
    "name": "ipython",
    "version": 3
   },
   "file_extension": ".py",
   "mimetype": "text/x-python",
   "name": "python",
   "nbconvert_exporter": "python",
   "pygments_lexer": "ipython3",
   "version": "3.8.5"
  },
  "orig_nbformat": 4,
  "kernelspec": {
   "name": "python3",
   "display_name": "Python 3.8.5 64-bit ('base': conda)"
  },
  "interpreter": {
   "hash": "04ac14935f6ed29b3349ee8f41114d2dfa2ba78ce87cf701ad9b7ca15955b787"
  }
 },
 "nbformat": 4,
 "nbformat_minor": 2,
 "cells": [
  {
   "cell_type": "code",
   "execution_count": null,
   "metadata": {},
   "outputs": [],
   "source": [
    "# this is largely based on the tutorials at: https://machinelearningmastery.com/how-to-develop-lstm-models-for-time-series-forecasting/"
   ]
  },
  {
   "cell_type": "code",
   "execution_count": 1,
   "metadata": {},
   "outputs": [],
   "source": [
    "import pandas as pd\n",
    "import numpy as np\n",
    "import matplotlib.pyplot as plt\n",
    "import sqlite3\n",
    "import datetime\n",
    "import os\n",
    "from tensorflow.keras.models import Sequential\n",
    "from tensorflow.keras.layers import LSTM\n",
    "from tensorflow.keras.layers import Dense\n",
    "from sklearn.metrics import mean_squared_error"
   ]
  },
  {
   "cell_type": "code",
   "execution_count": 2,
   "metadata": {},
   "outputs": [],
   "source": [
    "# settings\n",
    "model_settings = {'epochs': 100, 'batch_size': 4, 'train_test_ratio': 0.7, 'hidden_layers': 3, 'units': 100, 'start_date': '2020-01-01', 'n_steps_in': 60, 'n_steps_out': 30, 'symbol': 'CTXR'}\n",
    "current_date = datetime.datetime.now().strftime(\"%Y-%m-%d\")\n"
   ]
  },
  {
   "cell_type": "code",
   "execution_count": 3,
   "metadata": {},
   "outputs": [
    {
     "output_type": "execute_result",
     "data": {
      "text/plain": [
       "stock_symbol     ABEO    ABIO    ABMC     ABMT  ABUS   ACER   ACHFF   ACRX  \\\n",
       "price_datetime                                                               \n",
       "2020-01-02      3.210  5.6800  0.0700  0.10000  2.94  3.790  0.7410  2.070   \n",
       "2020-01-03      2.900  5.5600  0.0700  0.10000  3.08  3.580  0.7410  2.040   \n",
       "2020-01-06      2.770  5.6300  0.0700  0.10000  3.18  3.690  0.7410  2.010   \n",
       "2020-01-07      2.570  5.6700  0.0800  0.10000  3.04  3.710  0.7250  2.070   \n",
       "2020-01-08      2.620  6.0700  0.0800  0.10000  3.07  3.690  0.7330  2.030   \n",
       "...               ...     ...     ...      ...   ...    ...     ...    ...   \n",
       "2021-06-01      1.710  3.4900  0.0636  0.07920  2.86  2.960  1.1180  1.430   \n",
       "2021-06-02      1.745  3.5690  0.0645  0.11490  3.02  2.910  1.1400  1.440   \n",
       "2021-06-03      1.825  3.7000  0.0631  0.07609  2.90  2.881  1.1400  1.445   \n",
       "2021-06-04      1.705  3.6451  0.0620  0.08000  3.01  2.990  1.1174  1.490   \n",
       "2021-06-07      1.740  3.6400  0.0735  0.06650  3.27  2.970  1.1486  1.550   \n",
       "\n",
       "stock_symbol      ACST   ACUR  ...  XPHYF    XTLB   XTNT   XXII    YCBD  \\\n",
       "price_datetime                 ...                                        \n",
       "2020-01-02      2.3800  0.280  ...   0.75  1.3000  1.580  1.140  2.3400   \n",
       "2020-01-03      2.3300  0.280  ...   0.75  1.4100  1.530  1.090  2.2700   \n",
       "2020-01-06      2.2100  0.280  ...   0.75  1.4200  1.550  1.100  2.2200   \n",
       "2020-01-07      2.3300  0.240  ...   0.75  1.4100  1.590  1.090  1.8400   \n",
       "2020-01-08      2.1900  0.240  ...   0.75  1.2600  1.580  1.070  1.5900   \n",
       "...                ...    ...  ...    ...     ...    ...    ...     ...   \n",
       "2021-06-01      0.5071  0.365  ...   1.80  3.5400  1.450  4.600  2.9300   \n",
       "2021-06-02      0.5290  0.365  ...   1.82  3.5500  1.488  4.650  3.1550   \n",
       "2021-06-03      0.5373  0.365  ...   1.74  3.5242  1.660  4.645  3.1500   \n",
       "2021-06-04      0.5503  0.360  ...   1.76  3.3500  1.610  4.695  3.0098   \n",
       "2021-06-07      0.5715  0.360  ...   1.76  3.5000  1.630  5.240  3.2400   \n",
       "\n",
       "stock_symbol      ZIOP   ZIVO     ZOM    ZSAN    ZYNE  \n",
       "price_datetime                                         \n",
       "2020-01-02      4.6200  0.160  0.3310  1.5200  5.8800  \n",
       "2020-01-03      4.5000  0.160  0.3320  1.5500  5.8100  \n",
       "2020-01-06      4.4900  0.160  0.3130  1.6400  5.7000  \n",
       "2020-01-07      4.5300  0.160  0.3130  1.7100  5.5600  \n",
       "2020-01-08      4.5900  0.160  0.3200  1.6200  5.3100  \n",
       "...                ...    ...     ...     ...     ...  \n",
       "2021-06-01      3.0700  4.255  0.8239  0.8025  5.0700  \n",
       "2021-06-02      3.0400  4.145  0.8379  0.8006  5.2800  \n",
       "2021-06-03      3.1400  4.290  1.0050  0.8069  5.1819  \n",
       "2021-06-04      3.0529  4.350  0.9110  0.8187  5.1800  \n",
       "2021-06-07      3.0000  4.250  0.9667  0.9148  5.3100  \n",
       "\n",
       "[360 rows x 412 columns]"
      ],
      "text/html": "<div>\n<style scoped>\n    .dataframe tbody tr th:only-of-type {\n        vertical-align: middle;\n    }\n\n    .dataframe tbody tr th {\n        vertical-align: top;\n    }\n\n    .dataframe thead th {\n        text-align: right;\n    }\n</style>\n<table border=\"1\" class=\"dataframe\">\n  <thead>\n    <tr style=\"text-align: right;\">\n      <th>stock_symbol</th>\n      <th>ABEO</th>\n      <th>ABIO</th>\n      <th>ABMC</th>\n      <th>ABMT</th>\n      <th>ABUS</th>\n      <th>ACER</th>\n      <th>ACHFF</th>\n      <th>ACRX</th>\n      <th>ACST</th>\n      <th>ACUR</th>\n      <th>...</th>\n      <th>XPHYF</th>\n      <th>XTLB</th>\n      <th>XTNT</th>\n      <th>XXII</th>\n      <th>YCBD</th>\n      <th>ZIOP</th>\n      <th>ZIVO</th>\n      <th>ZOM</th>\n      <th>ZSAN</th>\n      <th>ZYNE</th>\n    </tr>\n    <tr>\n      <th>price_datetime</th>\n      <th></th>\n      <th></th>\n      <th></th>\n      <th></th>\n      <th></th>\n      <th></th>\n      <th></th>\n      <th></th>\n      <th></th>\n      <th></th>\n      <th></th>\n      <th></th>\n      <th></th>\n      <th></th>\n      <th></th>\n      <th></th>\n      <th></th>\n      <th></th>\n      <th></th>\n      <th></th>\n      <th></th>\n    </tr>\n  </thead>\n  <tbody>\n    <tr>\n      <th>2020-01-02</th>\n      <td>3.210</td>\n      <td>5.6800</td>\n      <td>0.0700</td>\n      <td>0.10000</td>\n      <td>2.94</td>\n      <td>3.790</td>\n      <td>0.7410</td>\n      <td>2.070</td>\n      <td>2.3800</td>\n      <td>0.280</td>\n      <td>...</td>\n      <td>0.75</td>\n      <td>1.3000</td>\n      <td>1.580</td>\n      <td>1.140</td>\n      <td>2.3400</td>\n      <td>4.6200</td>\n      <td>0.160</td>\n      <td>0.3310</td>\n      <td>1.5200</td>\n      <td>5.8800</td>\n    </tr>\n    <tr>\n      <th>2020-01-03</th>\n      <td>2.900</td>\n      <td>5.5600</td>\n      <td>0.0700</td>\n      <td>0.10000</td>\n      <td>3.08</td>\n      <td>3.580</td>\n      <td>0.7410</td>\n      <td>2.040</td>\n      <td>2.3300</td>\n      <td>0.280</td>\n      <td>...</td>\n      <td>0.75</td>\n      <td>1.4100</td>\n      <td>1.530</td>\n      <td>1.090</td>\n      <td>2.2700</td>\n      <td>4.5000</td>\n      <td>0.160</td>\n      <td>0.3320</td>\n      <td>1.5500</td>\n      <td>5.8100</td>\n    </tr>\n    <tr>\n      <th>2020-01-06</th>\n      <td>2.770</td>\n      <td>5.6300</td>\n      <td>0.0700</td>\n      <td>0.10000</td>\n      <td>3.18</td>\n      <td>3.690</td>\n      <td>0.7410</td>\n      <td>2.010</td>\n      <td>2.2100</td>\n      <td>0.280</td>\n      <td>...</td>\n      <td>0.75</td>\n      <td>1.4200</td>\n      <td>1.550</td>\n      <td>1.100</td>\n      <td>2.2200</td>\n      <td>4.4900</td>\n      <td>0.160</td>\n      <td>0.3130</td>\n      <td>1.6400</td>\n      <td>5.7000</td>\n    </tr>\n    <tr>\n      <th>2020-01-07</th>\n      <td>2.570</td>\n      <td>5.6700</td>\n      <td>0.0800</td>\n      <td>0.10000</td>\n      <td>3.04</td>\n      <td>3.710</td>\n      <td>0.7250</td>\n      <td>2.070</td>\n      <td>2.3300</td>\n      <td>0.240</td>\n      <td>...</td>\n      <td>0.75</td>\n      <td>1.4100</td>\n      <td>1.590</td>\n      <td>1.090</td>\n      <td>1.8400</td>\n      <td>4.5300</td>\n      <td>0.160</td>\n      <td>0.3130</td>\n      <td>1.7100</td>\n      <td>5.5600</td>\n    </tr>\n    <tr>\n      <th>2020-01-08</th>\n      <td>2.620</td>\n      <td>6.0700</td>\n      <td>0.0800</td>\n      <td>0.10000</td>\n      <td>3.07</td>\n      <td>3.690</td>\n      <td>0.7330</td>\n      <td>2.030</td>\n      <td>2.1900</td>\n      <td>0.240</td>\n      <td>...</td>\n      <td>0.75</td>\n      <td>1.2600</td>\n      <td>1.580</td>\n      <td>1.070</td>\n      <td>1.5900</td>\n      <td>4.5900</td>\n      <td>0.160</td>\n      <td>0.3200</td>\n      <td>1.6200</td>\n      <td>5.3100</td>\n    </tr>\n    <tr>\n      <th>...</th>\n      <td>...</td>\n      <td>...</td>\n      <td>...</td>\n      <td>...</td>\n      <td>...</td>\n      <td>...</td>\n      <td>...</td>\n      <td>...</td>\n      <td>...</td>\n      <td>...</td>\n      <td>...</td>\n      <td>...</td>\n      <td>...</td>\n      <td>...</td>\n      <td>...</td>\n      <td>...</td>\n      <td>...</td>\n      <td>...</td>\n      <td>...</td>\n      <td>...</td>\n      <td>...</td>\n    </tr>\n    <tr>\n      <th>2021-06-01</th>\n      <td>1.710</td>\n      <td>3.4900</td>\n      <td>0.0636</td>\n      <td>0.07920</td>\n      <td>2.86</td>\n      <td>2.960</td>\n      <td>1.1180</td>\n      <td>1.430</td>\n      <td>0.5071</td>\n      <td>0.365</td>\n      <td>...</td>\n      <td>1.80</td>\n      <td>3.5400</td>\n      <td>1.450</td>\n      <td>4.600</td>\n      <td>2.9300</td>\n      <td>3.0700</td>\n      <td>4.255</td>\n      <td>0.8239</td>\n      <td>0.8025</td>\n      <td>5.0700</td>\n    </tr>\n    <tr>\n      <th>2021-06-02</th>\n      <td>1.745</td>\n      <td>3.5690</td>\n      <td>0.0645</td>\n      <td>0.11490</td>\n      <td>3.02</td>\n      <td>2.910</td>\n      <td>1.1400</td>\n      <td>1.440</td>\n      <td>0.5290</td>\n      <td>0.365</td>\n      <td>...</td>\n      <td>1.82</td>\n      <td>3.5500</td>\n      <td>1.488</td>\n      <td>4.650</td>\n      <td>3.1550</td>\n      <td>3.0400</td>\n      <td>4.145</td>\n      <td>0.8379</td>\n      <td>0.8006</td>\n      <td>5.2800</td>\n    </tr>\n    <tr>\n      <th>2021-06-03</th>\n      <td>1.825</td>\n      <td>3.7000</td>\n      <td>0.0631</td>\n      <td>0.07609</td>\n      <td>2.90</td>\n      <td>2.881</td>\n      <td>1.1400</td>\n      <td>1.445</td>\n      <td>0.5373</td>\n      <td>0.365</td>\n      <td>...</td>\n      <td>1.74</td>\n      <td>3.5242</td>\n      <td>1.660</td>\n      <td>4.645</td>\n      <td>3.1500</td>\n      <td>3.1400</td>\n      <td>4.290</td>\n      <td>1.0050</td>\n      <td>0.8069</td>\n      <td>5.1819</td>\n    </tr>\n    <tr>\n      <th>2021-06-04</th>\n      <td>1.705</td>\n      <td>3.6451</td>\n      <td>0.0620</td>\n      <td>0.08000</td>\n      <td>3.01</td>\n      <td>2.990</td>\n      <td>1.1174</td>\n      <td>1.490</td>\n      <td>0.5503</td>\n      <td>0.360</td>\n      <td>...</td>\n      <td>1.76</td>\n      <td>3.3500</td>\n      <td>1.610</td>\n      <td>4.695</td>\n      <td>3.0098</td>\n      <td>3.0529</td>\n      <td>4.350</td>\n      <td>0.9110</td>\n      <td>0.8187</td>\n      <td>5.1800</td>\n    </tr>\n    <tr>\n      <th>2021-06-07</th>\n      <td>1.740</td>\n      <td>3.6400</td>\n      <td>0.0735</td>\n      <td>0.06650</td>\n      <td>3.27</td>\n      <td>2.970</td>\n      <td>1.1486</td>\n      <td>1.550</td>\n      <td>0.5715</td>\n      <td>0.360</td>\n      <td>...</td>\n      <td>1.76</td>\n      <td>3.5000</td>\n      <td>1.630</td>\n      <td>5.240</td>\n      <td>3.2400</td>\n      <td>3.0000</td>\n      <td>4.250</td>\n      <td>0.9667</td>\n      <td>0.9148</td>\n      <td>5.3100</td>\n    </tr>\n  </tbody>\n</table>\n<p>360 rows × 412 columns</p>\n</div>"
     },
     "metadata": {},
     "execution_count": 3
    }
   ],
   "source": [
    "# load and shape data\n",
    "conn = sqlite3.connect('stockPrediction_06072021.db')\n",
    "\n",
    "symbol_info = conn.execute(f\"SELECT sector_id, industry_id FROM stock WHERE stock_symbol = \\\"{model_settings['symbol']}\\\";\")\n",
    "symbol_info = symbol_info.fetchall()\n",
    "sector_id = symbol_info[0][0]\n",
    "industry_id = symbol_info[0][1]\n",
    "\n",
    "query = f\"SELECT r.stock_symbol, l.price_datetime, l.open_price, l.high_price, l.low_price, l.close_price, l.volume, l.dividends, l.stock_splits FROM eod_price_history l INNER JOIN stock r ON r.stock_id = l.stock_id WHERE r.sector_id = {sector_id} OR r.industry_id = {industry_id};\"\n",
    "\n",
    "symbols = conn.execute('SELECT stock_symbol FROM stock')\n",
    "symbols = symbols.fetchall()\n",
    "symbols = [i[0] for i in symbols]\n",
    "symbols = [i for i in symbols if i not in symbols]\n",
    "\n",
    "df = pd.read_sql(query, conn, index_col=['stock_symbol', 'price_datetime'])\n",
    "df = df.reset_index()\n",
    "\n",
    "df['price_datetime'] = pd.to_datetime(df['price_datetime'], format='%Y-%m-%d')\n",
    "\n",
    "df = df.set_index(['price_datetime', 'stock_symbol']).unstack(['stock_symbol'])\n",
    "\n",
    "df = df.loc[model_settings['start_date']:current_date]  # date range from 2019-01-01 to 2021-05-31\n",
    "\n",
    "close_df = df['close_price'].dropna(thresh=(len(df['close_price'] / 0.2)), axis=1)\n",
    "\n",
    "close_df = close_df.fillna(method='ffill', axis=1)\n",
    "\n",
    "# remove outliers\n",
    "low_outlier = close_df.quantile(.1, axis=1).quantile(.1)\n",
    "high_outlier = close_df.quantile(.9, axis=1).quantile(.9)\n",
    "for column in close_df.columns:\n",
    "    if (close_df[column].median() < low_outlier) or (close_df[column].median() > high_outlier):\n",
    "        close_df = close_df.drop([column], axis=1)\n",
    "close_df"
   ]
  },
  {
   "cell_type": "code",
   "execution_count": 16,
   "metadata": {},
   "outputs": [],
   "source": [
    "# split sequences function, splits multivariate sequence into samples\n",
    "def split_sequences(sequences, n_steps_in, n_steps_out):\n",
    "    X, y = list(), list()\n",
    "    for i in range(len(sequences)):\n",
    "        # find end of patterns\n",
    "        end_ix = i + n_steps_in\n",
    "        out_end_ix = end_ix + n_steps_out\n",
    "        # check to see if we are beyond the dataset\n",
    "        if end_ix > len(sequences):\n",
    "            break\n",
    "        # gather input, output parts of the pattern\n",
    "        # slightly guessing here on how to combine these two examples\n",
    "        seq_x, seq_y = sequences[i:end_ix, :], sequences[end_ix:out_end_ix, :]\n",
    "        X.append(seq_x)\n",
    "        y.append(seq_y)\n",
    "    return np.array(X), np.array(y)"
   ]
  },
  {
   "cell_type": "code",
   "execution_count": null,
   "metadata": {},
   "outputs": [],
   "source": [
    "# ignore\n",
    "# trying something new\n",
    "# split sequences function, splits multivariate sequence into samples\n",
    "def split_sequences(sequences, n_steps_in, n_steps_out):\n",
    "    X, y = list(), list()\n",
    "    seqs = list()\n",
    "    for a in sequences:\n",
    "        a = a.reshape((len(a), 1))\n",
    "        seqs.append(a)\n",
    "    dataset = np.hstack((seqs))\n",
    "    for i in range(len(dataset)):\n",
    "        # find end of patterns\n",
    "        end_ix = i + n_steps_in\n",
    "        out_end_ix = end_ix + n_steps_out\n",
    "        # check to see if we are beyond the dataset\n",
    "        if end_ix > len(dataset):\n",
    "            break\n",
    "        # gather input, output parts of the pattern\n",
    "        # slightly guessing here on how to combine these two examples\n",
    "        seq_x, seq_y = dataset[i:end_ix, :], dataset[end_ix:out_end_ix, :]\n",
    "        X.append(seq_x)\n",
    "        y.append(seq_y)\n",
    "    return np.array(X, dtype=np.float), np.array(y, dtype=np.float)"
   ]
  },
  {
   "cell_type": "code",
   "execution_count": 5,
   "metadata": {},
   "outputs": [],
   "source": [
    "# split into test/train data sets\n",
    "\n",
    "# splitting test/training data\n",
    "data_size = len(close_df)\n",
    "\n",
    "# using a 90/10 train/test split\n",
    "training_data = close_df.iloc[:(int(data_size * model_settings['train_test_ratio']))]\n",
    "test_data = close_df.iloc[(int(data_size * model_settings['train_test_ratio'])):]"
   ]
  },
  {
   "cell_type": "code",
   "execution_count": null,
   "metadata": {},
   "outputs": [],
   "source": [
    "# testing data sets to see if they're correct\n",
    "training_data"
   ]
  },
  {
   "cell_type": "code",
   "execution_count": null,
   "metadata": {},
   "outputs": [],
   "source": [
    "test_data"
   ]
  },
  {
   "cell_type": "code",
   "execution_count": null,
   "metadata": {},
   "outputs": [],
   "source": [
    "# ignore\n",
    "columns = [i for i in training_data.columns]\n",
    "arrays = list()\n",
    "for i in columns:\n",
    "    arrays.append(training_data[i].to_numpy())"
   ]
  },
  {
   "cell_type": "code",
   "execution_count": 7,
   "metadata": {},
   "outputs": [
    {
     "output_type": "execute_result",
     "data": {
      "text/plain": [
       "'for i in range(len(training_data)):\\n    out_seq.append(training_data.iloc[i].sum())\\nout_seq = np.array(out_seq, dtype=np.float)'"
      ]
     },
     "metadata": {},
     "execution_count": 7
    }
   ],
   "source": [
    "#df['sum'] = df.sum(axis=1)\n",
    "\n",
    "# ignore others, working w/ this cell currently\n",
    "\n",
    "arrays = list()\n",
    "out_seq = list()\n",
    "for i in range(len(training_data)):\n",
    "    arrays.append(training_data.iloc[i].to_numpy(dtype=np.float))\n",
    "'''for i in range(len(training_data)):\n",
    "    out_seq.append(training_data.iloc[i].sum())\n",
    "out_seq = np.array(out_seq, dtype=np.float)'''"
   ]
  },
  {
   "cell_type": "code",
   "execution_count": 18,
   "metadata": {},
   "outputs": [
    {
     "output_type": "execute_result",
     "data": {
      "text/plain": [
       "412"
      ]
     },
     "metadata": {},
     "execution_count": 18
    }
   ],
   "source": [
    "len(arrays[0])"
   ]
  },
  {
   "cell_type": "code",
   "execution_count": 8,
   "metadata": {},
   "outputs": [],
   "source": [
    "# ignore\n",
    "# reshape\n",
    "arrays2 = list()\n",
    "for i in arrays:\n",
    "    arrays2.append(i.reshape((len(i), 1)))"
   ]
  },
  {
   "cell_type": "code",
   "execution_count": null,
   "metadata": {},
   "outputs": [],
   "source": [
    "# ignore\n",
    "out_seq = out_seq.reshape((len(out_seq), 1))"
   ]
  },
  {
   "cell_type": "code",
   "execution_count": null,
   "metadata": {},
   "outputs": [],
   "source": [
    "# ignore\n",
    "arrays2.append(out_seq)\n",
    "dataset = np.hstack((arrays2))"
   ]
  },
  {
   "cell_type": "code",
   "execution_count": 9,
   "metadata": {},
   "outputs": [],
   "source": [
    "# reshape arrays\n",
    "# in_seq arrays\n",
    "for i in range(len(arrays)):\n",
    "    arrays[i] = arrays[i].reshape((len(arrays[i]), 1))\n",
    "# out_seq = out_seq.reshape((len(out_seq), 1))"
   ]
  },
  {
   "cell_type": "code",
   "execution_count": 10,
   "metadata": {},
   "outputs": [],
   "source": [
    "# arrays.append(out_seq)\n",
    "dataset = np.hstack((arrays))"
   ]
  },
  {
   "cell_type": "code",
   "execution_count": 17,
   "metadata": {},
   "outputs": [
    {
     "output_type": "stream",
     "name": "stderr",
     "text": [
      "<ipython-input-16-0151ca9f4c2f>:16: VisibleDeprecationWarning: Creating an ndarray from ragged nested sequences (which is a list-or-tuple of lists-or-tuples-or ndarrays with different lengths or shapes) is deprecated. If you meant to do this, you must specify 'dtype=object' when creating the ndarray\n  return np.array(X), np.array(y)\n"
     ]
    }
   ],
   "source": [
    "# may just be able to jump right into using the split_sequence func?\n",
    "X, y = split_sequences(dataset, model_settings['n_steps_in'], model_settings['n_steps_out'])"
   ]
  },
  {
   "cell_type": "code",
   "execution_count": 23,
   "metadata": {},
   "outputs": [
    {
     "output_type": "stream",
     "name": "stdout",
     "text": [
      "(30, 251)\n(30, 251)\n(30, 251)\n(30, 251)\n(30, 251)\n(30, 251)\n(30, 251)\n(30, 251)\n(30, 251)\n(30, 251)\n(30, 251)\n(30, 251)\n(30, 251)\n(30, 251)\n(30, 251)\n(30, 251)\n(30, 251)\n(30, 251)\n(30, 251)\n(30, 251)\n(30, 251)\n(30, 251)\n(30, 251)\n(30, 251)\n(30, 251)\n(30, 251)\n(30, 251)\n(30, 251)\n(30, 251)\n(30, 251)\n(30, 251)\n(30, 251)\n(30, 251)\n(30, 251)\n(30, 251)\n(30, 251)\n(30, 251)\n(30, 251)\n(30, 251)\n(30, 251)\n(30, 251)\n(30, 251)\n(30, 251)\n(30, 251)\n(30, 251)\n(30, 251)\n(30, 251)\n(30, 251)\n(30, 251)\n(30, 251)\n(30, 251)\n(30, 251)\n(30, 251)\n(30, 251)\n(30, 251)\n(30, 251)\n(30, 251)\n(30, 251)\n(30, 251)\n(30, 251)\n(30, 251)\n(30, 251)\n(30, 251)\n(30, 251)\n(30, 251)\n(30, 251)\n(30, 251)\n(30, 251)\n(30, 251)\n(30, 251)\n(30, 251)\n(30, 251)\n(30, 251)\n(30, 251)\n(30, 251)\n(30, 251)\n(30, 251)\n(30, 251)\n(30, 251)\n(30, 251)\n(30, 251)\n(30, 251)\n(30, 251)\n(30, 251)\n(30, 251)\n(30, 251)\n(30, 251)\n(30, 251)\n(30, 251)\n(30, 251)\n(30, 251)\n(30, 251)\n(30, 251)\n(30, 251)\n(30, 251)\n(30, 251)\n(30, 251)\n(30, 251)\n(30, 251)\n(30, 251)\n(30, 251)\n(30, 251)\n(30, 251)\n(30, 251)\n(30, 251)\n(30, 251)\n(30, 251)\n(30, 251)\n(30, 251)\n(30, 251)\n(30, 251)\n(30, 251)\n(30, 251)\n(30, 251)\n(30, 251)\n(30, 251)\n(30, 251)\n(30, 251)\n(30, 251)\n(30, 251)\n(30, 251)\n(30, 251)\n(30, 251)\n(30, 251)\n(30, 251)\n(30, 251)\n(30, 251)\n(30, 251)\n(30, 251)\n(30, 251)\n(30, 251)\n(30, 251)\n(30, 251)\n(30, 251)\n(30, 251)\n(30, 251)\n(30, 251)\n(30, 251)\n(30, 251)\n(30, 251)\n(30, 251)\n(30, 251)\n(30, 251)\n(30, 251)\n(30, 251)\n(30, 251)\n(30, 251)\n(30, 251)\n(30, 251)\n(30, 251)\n(30, 251)\n(30, 251)\n(30, 251)\n(30, 251)\n(30, 251)\n(30, 251)\n(30, 251)\n(30, 251)\n(30, 251)\n(30, 251)\n(30, 251)\n(30, 251)\n(30, 251)\n(30, 251)\n(30, 251)\n(30, 251)\n(30, 251)\n(30, 251)\n(30, 251)\n(30, 251)\n(30, 251)\n(30, 251)\n(30, 251)\n(30, 251)\n(30, 251)\n(30, 251)\n(30, 251)\n(30, 251)\n(30, 251)\n(30, 251)\n(30, 251)\n(30, 251)\n(30, 251)\n(30, 251)\n(30, 251)\n(30, 251)\n(30, 251)\n(30, 251)\n(30, 251)\n(30, 251)\n(30, 251)\n(30, 251)\n(30, 251)\n(30, 251)\n(30, 251)\n(30, 251)\n(30, 251)\n(30, 251)\n(30, 251)\n(30, 251)\n(30, 251)\n(30, 251)\n(30, 251)\n(30, 251)\n(30, 251)\n(30, 251)\n(30, 251)\n(30, 251)\n(30, 251)\n(30, 251)\n(30, 251)\n(30, 251)\n(30, 251)\n(30, 251)\n(30, 251)\n(30, 251)\n(30, 251)\n(30, 251)\n(30, 251)\n(30, 251)\n(30, 251)\n(30, 251)\n(30, 251)\n(30, 251)\n(30, 251)\n(30, 251)\n(30, 251)\n(30, 251)\n(30, 251)\n(30, 251)\n(30, 251)\n(30, 251)\n(30, 251)\n(30, 251)\n(30, 251)\n(30, 251)\n(30, 251)\n(30, 251)\n(30, 251)\n(30, 251)\n(30, 251)\n(30, 251)\n(30, 251)\n(30, 251)\n(30, 251)\n(30, 251)\n(30, 251)\n(30, 251)\n(30, 251)\n(30, 251)\n(30, 251)\n(30, 251)\n(30, 251)\n(30, 251)\n(30, 251)\n(30, 251)\n(30, 251)\n(30, 251)\n(30, 251)\n(30, 251)\n(30, 251)\n(30, 251)\n(30, 251)\n(30, 251)\n(30, 251)\n(30, 251)\n(30, 251)\n(30, 251)\n(30, 251)\n(30, 251)\n(30, 251)\n(30, 251)\n(30, 251)\n(30, 251)\n(30, 251)\n(30, 251)\n(30, 251)\n(30, 251)\n(30, 251)\n(30, 251)\n(30, 251)\n(30, 251)\n(30, 251)\n(30, 251)\n(30, 251)\n(30, 251)\n(30, 251)\n(30, 251)\n(30, 251)\n(30, 251)\n(30, 251)\n(30, 251)\n(30, 251)\n(30, 251)\n(30, 251)\n(30, 251)\n(30, 251)\n(30, 251)\n(30, 251)\n(30, 251)\n(30, 251)\n(30, 251)\n(30, 251)\n(30, 251)\n(30, 251)\n(30, 251)\n(30, 251)\n(30, 251)\n(30, 251)\n(30, 251)\n(30, 251)\n(30, 251)\n(30, 251)\n(30, 251)\n(30, 251)\n(30, 251)\n(30, 251)\n(30, 251)\n(30, 251)\n(30, 251)\n(30, 251)\n(30, 251)\n(30, 251)\n(29, 251)\n(28, 251)\n(27, 251)\n(26, 251)\n(25, 251)\n(24, 251)\n(23, 251)\n(22, 251)\n(21, 251)\n(20, 251)\n(19, 251)\n(18, 251)\n(17, 251)\n(16, 251)\n(15, 251)\n(14, 251)\n(13, 251)\n(12, 251)\n(11, 251)\n(10, 251)\n(9, 251)\n(8, 251)\n(7, 251)\n(6, 251)\n(5, 251)\n(4, 251)\n(3, 251)\n(2, 251)\n(1, 251)\n(0, 251)\n"
     ]
    }
   ],
   "source": [
    "for i in range(len(y)):\n",
    "    print(y[i].shape)"
   ]
  },
  {
   "cell_type": "code",
   "execution_count": 18,
   "metadata": {},
   "outputs": [],
   "source": [
    "n_features = X.shape[2]"
   ]
  },
  {
   "cell_type": "code",
   "execution_count": null,
   "metadata": {},
   "outputs": [],
   "source": [
    "X = X.reshape((X.shape[0], X.shape[1], n_features))"
   ]
  },
  {
   "cell_type": "code",
   "execution_count": null,
   "metadata": {},
   "outputs": [],
   "source": [
    "# define model\n",
    "model = Sequential()\n",
    "model.add(LSTM(100, activation='relu', return_sequences=True, input_shape=(model_settings['n_steps_in'], n_features)))\n",
    "model.add(LSTM(100, activation='relu'))\n",
    "model.add(Dense(model_settings['n_steps_out']))\n",
    "model.compile(optimizer='adam', loss='mse')"
   ]
  },
  {
   "cell_type": "code",
   "execution_count": null,
   "metadata": {},
   "outputs": [],
   "source": [
    "# fit model\n",
    "model.fit(X, y, epochs=400, verbose=1)"
   ]
  },
  {
   "cell_type": "code",
   "execution_count": null,
   "metadata": {},
   "outputs": [],
   "source": [
    "for i in range(len(X)):\n",
    "    print(X[i], y[i])"
   ]
  }
 ]
}