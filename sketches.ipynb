{
 "metadata": {
  "language_info": {
   "codemirror_mode": {
    "name": "ipython",
    "version": 3
   },
   "file_extension": ".py",
   "mimetype": "text/x-python",
   "name": "python",
   "nbconvert_exporter": "python",
   "pygments_lexer": "ipython3",
   "version": "3.8.5"
  },
  "orig_nbformat": 2,
  "kernelspec": {
   "name": "python385jvsc74a57bd004ac14935f6ed29b3349ee8f41114d2dfa2ba78ce87cf701ad9b7ca15955b787",
   "display_name": "Python 3.8.5 64-bit ('base': conda)"
  }
 },
 "nbformat": 4,
 "nbformat_minor": 2,
 "cells": [
  {
   "cell_type": "code",
   "execution_count": null,
   "metadata": {},
   "outputs": [],
   "source": [
    "import yfinance as yf\n",
    "import datetime\n",
    "import time\n",
    "\n",
    "aapl = yf.Ticker('AAPL')"
   ]
  },
  {
   "cell_type": "code",
   "execution_count": null,
   "metadata": {},
   "outputs": [],
   "source": [
    "aapl.info"
   ]
  },
  {
   "cell_type": "code",
   "execution_count": null,
   "metadata": {},
   "outputs": [],
   "source": [
    "aapl.info['sector']"
   ]
  },
  {
   "cell_type": "code",
   "execution_count": null,
   "metadata": {},
   "outputs": [],
   "source": [
    "# get current date and date 60 days ago\n",
    "current_date = datetime.datetime.now()\n",
    "current_date = current_date.strftime(\"%Y-%m-%d\")\n",
    "sixty_days_ago = (datetime.datetime.now() - datetime.timedelta(days=59))\n",
    "sixty_days_ago = sixty_days_ago.strftime('%Y-%m-%d')\n",
    "\n",
    "aapl.history(interval='15m', auto_adjust=True, start=sixty_days_ago, end=current_date)"
   ]
  },
  {
   "cell_type": "code",
   "execution_count": null,
   "metadata": {},
   "outputs": [],
   "source": [
    "# import SQLite\n",
    "\n",
    "import sqlite3\n",
    "from sqlite3 import Error\n",
    "\n",
    "conn = sqlite3.connect('stockPrediction.db')"
   ]
  },
  {
   "cell_type": "code",
   "execution_count": null,
   "metadata": {},
   "outputs": [],
   "source": [
    "# build SQLite tables\n",
    "\n",
    "# build table if not exists\n",
    "\n",
    "# table for sectors, industries\n",
    "conn.execute('''CREATE TABLE IF NOT EXISTS sector (\n",
    "    sector_id INTEGER PRIMARY KEY AUTOINCREMENT NOT NULL,\n",
    "    sector TEXT NOT NULL\n",
    ");\n",
    "''')\n",
    "\n",
    "conn.execute('''CREATE TABLE IF NOT EXISTS industry (\n",
    "    industry_id INTEGER PRIMARY KEY AUTOINCREMENT NOT NULL,\n",
    "    industry TEXT NOT NULL\n",
    ");\n",
    "''')\n",
    "\n",
    "# stock table\n",
    "conn.execute('''CREATE TABLE IF NOT EXISTS stock (\n",
    "    stock_id INTEGER PRIMARY KEY AUTOINCREMENT NOT NULL,\n",
    "    stock_symbol TEXT NOT NULL,\n",
    "    short_name TEXT,\n",
    "    full_name TEXT,\n",
    "    sector_id TEXT,\n",
    "    industry_id TEXT,\n",
    "    datetime_added TEXT NOT NULL,\n",
    "    FOREIGN KEY (sector_id)\n",
    "        REFERENCES sector (sector_id)\n",
    "        ON UPDATE CASCADE\n",
    "        ON DELETE CASCADE,\n",
    "    FOREIGN KEY (industry_ID)\n",
    "        REFERENCES industry (industry_id)\n",
    "        ON UPDATE CASCADE\n",
    "        ON DELETE CASCADE\n",
    ");''')\n",
    "\n",
    "conn.execute('''CREATE TABLE IF NOT EXISTS price_history (\n",
    "    price_id INTEGER PRIMARY KEY AUTOINCREMENT NOT NULL,\n",
    "    stock_id INTEGER NOT NULL,\n",
    "    price_datetime TEXT NOT NULL,\n",
    "    open_price REAL NOT NULL,\n",
    "    high_price REAL NOT NULL,\n",
    "    low_price REAL NOT NULL,\n",
    "    close_price REAL NOT NULL,\n",
    "    volume INTEGER NOT NULL,\n",
    "    dividends REAL,\n",
    "    stock_splits TEXT,\n",
    "    datetime_added TEXT NOT NULL,\n",
    "    FOREIGN KEY (stock_id)\n",
    "        REFERENCES stock (stock_id)\n",
    "        ON UPDATE CASCADE\n",
    "        ON DELETE CASCADE\n",
    ");\n",
    "''')\n",
    "\n"
   ]
  },
  {
   "source": [
    "## Add the stocks from a text file to the database, and get info regarding their sectors, industries, etc."
   ],
   "cell_type": "markdown",
   "metadata": {}
  },
  {
   "cell_type": "code",
   "execution_count": null,
   "metadata": {
    "tags": [
     "outputPrepend"
    ]
   },
   "outputs": [],
   "source": [
    "from stock import Stock\n",
    "from stock import Price\n",
    "from stock import get_current_datetime\n",
    "import sqlite3\n",
    "from sqlite3 import Error\n",
    "import yfinance as yf\n",
    "import datetime\n",
    "import time\n",
    "\n",
    "conn = sqlite3.connect('stockPrediction.db')\n",
    "\n",
    "# open a list of symbols, each symbol as a single line\n",
    "symbols = open('allUnderFiveDollarsAndPrevOwned - Copy.txt')\n",
    "\n",
    "dbq = conn.execute('SELECT stock_symbol FROM stock')\n",
    "dbq = dbq.fetchall()\n",
    "\n",
    "db_symbols = [x[0] for x in dbq]\n",
    "\n",
    "# loop thru the symbols\n",
    "for symbol in symbols:\n",
    "\n",
    "    symbol = symbol.strip('\\n')\n",
    "\n",
    "    if symbol in db_symbols:\n",
    "        continue\n",
    "\n",
    "    # call to yf to get the data\n",
    "    data = yf.Ticker(symbol)\n",
    "\n",
    "    # take the data and create a new Stock object w/ it, just to keep organized and help myself w/ OOP\n",
    "    # try/except block for symbols that have since been delisted\n",
    "    try:\n",
    "        symbol = Stock(symbol, short_name=data.info['shortName'], full_name=data.info['longName'], sector=data.info['sector'], industry=data.info['industry'])\n",
    "    except KeyError:\n",
    "        print(f'{symbol} no longer a listed security')\n",
    "        continue\n",
    "\n",
    "    # trying this to see if I can correct my db locked error:\n",
    "    conn.commit()\n",
    "\n",
    "    # check to see if this security's industry/sector are already in the DB, if not, add them\n",
    "    # must have a DB connection open prior to running loop\n",
    "    symbol.check_industry(symbol.industry, conn)\n",
    "    symbol.check_sector(symbol.sector, conn)\n",
    "\n",
    "    # remove rogue single quotes from the short/full names\n",
    "    symbol.short_name = symbol.short_name.replace(\"'\", \"\")\n",
    "    symbol.full_name = symbol.full_name.replace(\"'\", \"\")\n",
    "\n",
    "    # add the symbol to the db\n",
    "    conn.execute(f\"INSERT INTO stock (stock_symbol, short_name, full_name, sector_id, industry_id, datetime_added) VALUES ('{symbol.symbol}', '{symbol.short_name}', '{symbol.full_name}', {symbol.sector_id}, {symbol.industry_id}, '{get_current_datetime()}')\")\n",
    "    conn.commit()\n",
    "    print(f'Wrote {symbol.symbol} to the DB')\n",
    "\n",
    "    # pause to not get us blocked by yf\n",
    "    time.sleep(3)\n",
    "print('Done.')"
   ]
  },
  {
   "cell_type": "code",
   "execution_count": null,
   "metadata": {},
   "outputs": [],
   "source": [
    "symbol.short_name"
   ]
  },
  {
   "cell_type": "code",
   "execution_count": null,
   "metadata": {},
   "outputs": [],
   "source": [
    "# this was to test to see if i wrote my list comprehension correctly\n",
    "\n",
    "from stock import Stock\n",
    "from stock import Price\n",
    "from stock import get_current_datetime\n",
    "import sqlite3\n",
    "from sqlite3 import Error\n",
    "import yfinance as yf\n",
    "import datetime\n",
    "import time\n",
    "\n",
    "conn = sqlite3.connect('stockPrediction.db')\n",
    "\n",
    "# open a list of symbols, each symbol as a single line\n",
    "symbols = open('allUnderFiveDollarsAndPrevOwned - Copy.txt')\n",
    "\n",
    "dbq = conn.execute('SELECT stock_symbol FROM stock')\n",
    "dbq = dbq.fetchall()\n",
    "\n",
    "db_symbols = [x[0] for x in dbq]"
   ]
  },
  {
   "cell_type": "code",
   "execution_count": null,
   "metadata": {},
   "outputs": [],
   "source": [
    "get_current_datetime()"
   ]
  },
  {
   "cell_type": "code",
   "execution_count": null,
   "metadata": {},
   "outputs": [],
   "source": [
    "# this is me testing my stock class\n",
    "from stock import Stock\n",
    "from stock import Price\n",
    "\n",
    "aapl = Stock('AAPL')\n"
   ]
  },
  {
   "cell_type": "code",
   "execution_count": null,
   "metadata": {},
   "outputs": [],
   "source": [
    "print(aapl.symbol)"
   ]
  },
  {
   "cell_type": "code",
   "execution_count": null,
   "metadata": {},
   "outputs": [],
   "source": [
    "aapl.short_name = 'Apple Inc.'"
   ]
  },
  {
   "cell_type": "code",
   "execution_count": null,
   "metadata": {},
   "outputs": [],
   "source": [
    "print(aapl.short_name)"
   ]
  },
  {
   "cell_type": "code",
   "execution_count": null,
   "metadata": {},
   "outputs": [],
   "source": [
    "symbol.symbol"
   ]
  },
  {
   "cell_type": "code",
   "execution_count": null,
   "metadata": {},
   "outputs": [],
   "source": [
    "symbol.sector_id"
   ]
  },
  {
   "cell_type": "code",
   "execution_count": null,
   "metadata": {},
   "outputs": [],
   "source": [
    "# testing class methods for stock\n",
    "from stock import Stock\n",
    "import yfinance as yf\n",
    "import sqlite3\n",
    "\n",
    "conn = sqlite3.connect('stockPrediction.db')\n",
    "\n",
    "data = yf.Ticker('AAPL')\n",
    "\n",
    "aapl = Stock(data.info['symbol'])\n",
    "aapl.industry = data.info['industry']\n",
    "aapl.sector = data.info['sector']"
   ]
  },
  {
   "cell_type": "code",
   "execution_count": null,
   "metadata": {},
   "outputs": [],
   "source": [
    "aapl.industry"
   ]
  },
  {
   "cell_type": "code",
   "execution_count": null,
   "metadata": {},
   "outputs": [],
   "source": [
    "aapl.sector"
   ]
  },
  {
   "cell_type": "code",
   "execution_count": null,
   "metadata": {},
   "outputs": [],
   "source": [
    "aapl.check_industry(aapl.industry, conn)"
   ]
  },
  {
   "cell_type": "code",
   "execution_count": null,
   "metadata": {},
   "outputs": [],
   "source": [
    "print(aapl.industry_id)"
   ]
  },
  {
   "cell_type": "code",
   "execution_count": null,
   "metadata": {},
   "outputs": [],
   "source": [
    "import yfinance as yf\n",
    "import datetime\n",
    "\n",
    "current_date = datetime.datetime.now().strftime(\"%Y-%m-%d\")\n",
    "sixty_days_ago = (datetime.datetime.now() - datetime.timedelta(days=59)).strftime(\"%Y-%m-%d\")\n",
    "\n",
    "data = yf.Ticker(\"BEBE\")\n",
    "\n",
    "data.history(\n",
    "    start = sixty_days_ago,\n",
    "    end = current_date,\n",
    "    interval = '15m',\n",
    "    auto_adjust = True\n",
    ")"
   ]
  },
  {
   "cell_type": "code",
   "execution_count": null,
   "metadata": {},
   "outputs": [],
   "source": [
    "import pandas as pd\n",
    "\n",
    "data = \"INSERT INTO price_history (stock_id, price_datetime, open_price, high_price, low_price, close_price, volume, dividends, stock_splits, datetime_added) VALUES \\n(229, '2021-02-12 09:30:00', 4.550000190734863, 4.550000190734863, 4.550000190734863, 4.550000190734863, 24.0, 0.0, '0', '2021-04-12 19:56:50' ),\\n(229, '2021-02-16 11:00:00', 5.389999866485596, 5.389999866485596, 5.389999866485596, 5.389999866485596, 48.0, 0.0, '0', '2021-04-12 19:56:50' ),\\n(229, '2021-02-16 13:45:00', 4.849999904632568, 4.849999904632568, 4.550000190734863, 4.550000190734863, 2914.0, 0.0, '0', '2021-04-12 19:56:50' ),\\n(229, '2021-02-17 09:30:00', 4.550000190734863, 4.550000190734863, 4.550000190734863, 4.550000190734863, 0.0, 0.0, '0', '2021-04-12 19:56:50' ),\\n(229, '2021-02-17 11:00:00', 5.349999904632568, 5.349999904632568, 5.349999904632568, 5.349999904632568, 258.0, 0.0, '0', '2021-04-12 19:56:50' ),\\n(229, '2021-02-17 12:30:00', 5.25, 5.349999904632568, 5.25, 5.349999904632568, 3480.0, 0.0, '0', '2021-04-12 19:56:50' ),\\n(229, '2021-02-17 12:45:00', 4.550000190734863, 4.550000190734863, 4.550000190734863, 4.550000190734863, 203.0, 0.0, '0', '2021-04-12 19:56:50' ),\\n(229, '2021-02-18 09:30:00', 4.550000190734863, 4.550000190734863, 4.550000190734863, 4.550000190734863, 0.0, 0.0, '0', '2021-04-12 19:56:50' ),\\n(229, '2021-02-18 11:15:00', 5.349999904632568, 5.989999771118164, 5.349999904632568, 5.989999771118164, 2110.0, 0.0, '0', '2021-04-12 19:56:50' ),\\n(229, '2021-02-18 11:30:00', 5.369999885559082, 5.369999885559082, 4.599999904632568, 4.599999904632568, 0.0, 0.0, '0', '2021-04-12 19:56:50' ),\\n(229, '2021-02-19 09:30:00', 4.550000190734863, 4.550000190734863, 4.550000190734863, 4.550000190734863, 107.0, 0.0, '0', '2021-04-12 19:56:50' ),\\n(229, '2021-02-19 10:15:00', 5.980000019073486, 5.980000019073486, 5.980000019073486, 5.980000019073486, 402.0, 0.0, '0', '2021-04-12 19:56:50' ),\\n(229, '2021-02-19 12:45:00', 5.5, 5.5, 5.5, 5.5, 173.0, 0.0, '0', '2021-04-12 19:56:50' ),\\n(229, '2021-02-19 15:45:00', 5.5, 5.5, 5.5, 5.5, 227.0, 0.0, '0', '2021-04-12 19:56:50' ),\\n(229, '2021-02-22 09:30:00', 5.5, 5.5, 5.5, 5.5, 0.0, 0.0, '0', '2021-04-12 19:56:50' ),\\n(229, '2021-02-22 13:00:00', 5.449999809265137, 5.449999809265137, 5.449999809265137, 5.449999809265137, 200.0, 0.0, '0', '2021-04-12 19:56:50' ),\\n(229, '2021-02-23 09:30:00', 5.5, 5.5, 5.5, 5.5, 175.0, 0.0, '0', '2021-04-12 19:56:50' ),\\n(229, '2021-02-23 09:45:00', 5.640100002288818, 5.640100002288818, 5.640100002288818, 5.640100002288818, 100.0, 0.0, '0', '2021-04-12 19:56:50' ),\\n(229, '2021-02-23 10:15:00', 5.679999828338623, 5.679999828338623, 5.679999828338623, 5.679999828338623, 200.0, 0.0, '0', '2021-04-12 19:56:50' ),\\n(229, '2021-02-23 10:45:00', 5.360000133514404, 5.360000133514404, 5.360000133514404, 5.360000133514404, 926.0, 0.0, '0', '2021-04-12 19:56:50' ),\\n(229, '2021-02-23 15:45:00', 5.300000190734863, 5.300000190734863, 5.289999961853027, 5.289999961853027, 2011.0, 0.0, '0', '2021-04-12 19:56:50' ),\\n(229, '2021-02-24 09:30:00', nan, nan, nan, nan, nan, 0.06, '0', '2021-04-12 19:56:50' ),\\n(229, '2021-02-24 14:45:00', 5.75, 5.75, 5.75, 5.75, 0.0, 0.0, '0', '2021-04-12 19:56:50' ),\\n(229, '2021-02-24 15:45:00', 4.699999809265137, 5.289999961853027, 4.699999809265137, 5.289999961853027, 256.0, 0.0, '0', '2021-04-12 19:56:50' ),\\n(229, '2021-02-25 09:30:00', 4.699999809265137, 5.75, 4.699999809265137, 5.75, 330.0, 0.0, '0', '2021-04-12 19:56:50' ),\\n(229, '2021-02-26 09:30:00', 5.809999942779541, 5.809999942779541, 5.809999942779541, 5.809999942779541, 0.0, 0.0, '0', '2021-04-12 19:56:50' ),\\n(229, '2021-02-26 11:00:00', 4.71999979019165, 4.71999979019165, 4.5, 4.5, 500.0, 0.0, '0', '2021-04-12 19:56:50' ),\\n(229, '2021-02-26 11:15:00', 4.820000171661377, 4.820000171661377, 4.820000171661377, 4.820000171661377, 110.0, 0.0, '0', '2021-04-12 19:56:50' ),\\n(229, '2021-02-26 12:30:00', 4.849999904632568, 4.849999904632568, 4.849999904632568, 4.849999904632568, 100.0, 0.0, '0', '2021-04-12 19:56:50' ),\\n(229, '2021-02-26 12:45:00', 5.639999866485596, 5.639999866485596, 5.639999866485596, 5.639999866485596, 101.0, 0.0, '0', '2021-04-12 19:56:50' ),\\n(229, '2021-02-26 14:30:00', 4.849999904632568, 4.849999904632568, 4.849999904632568, 4.849999904632568, 150.0, 0.0, '0', '2021-04-12 19:56:50' ),\\n(229, '2021-02-26 15:45:00', 5.639999866485596, 5.639999866485596, 5.639999866485596, 5.639999866485596, 157.0, 0.0, '0', '2021-04-12 19:56:50' ),\\n(229, '2021-03-01 09:30:00', 5.639999866485596, 5.639999866485596, 5.639999866485596, 5.639999866485596, 0.0, 0.0, '0', '2021-04-12 19:56:50' ),\\n(229, '2021-03-01 13:00:00', 5.570000171661377, 5.650000095367432, 5.570000171661377, 5.650000095367432, 2110.0, 0.0, '0', '2021-04-12 19:56:50' ),\\n(229, '2021-03-01 14:00:00', 5.010000228881836, 5.010000228881836, 5.010000228881836, 5.010000228881836, 115.0, 0.0, '0', '2021-04-12 19:56:50' ),\\n(229, '2021-03-01 15:45:00', 4.760000228881836, 4.760000228881836, 4.760000228881836, 4.760000228881836, 100.0, 0.0, '0', '2021-04-12 19:56:50' ),\\n(229, '2021-03-02 09:30:00', 5.0, 5.0, 5.0, 5.0, 0.0, 0.0, '0', '2021-04-12 19:56:50' ),\\n(229, '2021-03-02 10:00:00', 5.0, 5.0, 5.0, 5.0, 141.0, 0.0, '0', '2021-04-12 19:56:50' ),\\n(229, '2021-03-02 10:45:00', 5.0, 5.0, 5.0, 5.0, 150.0, 0.0, '0', '2021-04-12 19:56:50' ),\\n(229, '2021-03-02 13:45:00', 5.150000095367432, 5.150000095367432, 4.550000190734863, 4.550000190734863, 6372.0, 0.0, '0', '2021-04-12 19:56:50' ),\\n(229, '2021-03-02 15:45:00', 5.440000057220459, 5.440000057220459, 5.440000057220459, 5.440000057220459, 113.0, 0.0, '0', '2021-04-12 19:56:50' ),\\n(229, '2021-03-03 14:30:00', 5.739999771118164, 5.75, 5.739999771118164, 5.75, 216.0, 0.0, '0', '2021-04-12 19:56:50' ),\\n(229, '2021-03-03 14:45:00', 5.75, 5.75, 5.75, 5.75, 126.0, 0.0, '0', '2021-04-12 19:56:50' ),\\n(229, '2021-03-03 15:45:00', 5.150000095367432, 5.150000095367432, 5.150000095367432, 5.150000095367432, 428.0, 0.0, '0', '2021-04-12 19:56:50' ),\\n(229, '2021-03-04 13:15:00', 5.550000190734863, 5.550000190734863, 5.550000190734863, 5.550000190734863, 134.0, 0.0, '0', '2021-04-12 19:56:50' ),\\n(229, '2021-03-04 14:15:00', 5.599999904632568, 5.599999904632568, 5.599999904632568, 5.599999904632568, 4906.0, 0.0, '0', '2021-04-12 19:56:50' ),\\n(229, '2021-03-04 14:30:00', 5.599999904632568, 5.599999904632568, 5.599999904632568, 5.599999904632568, 1200.0, 0.0, '0', '2021-04-12 19:56:50' ),\\n(229, '2021-03-04 14:45:00', 5.599999904632568, 5.599999904632568, 5.599999904632568, 5.599999904632568, 3906.0, 0.0, '0', '2021-04-12 19:56:50' ),\\n(229, '2021-03-04 15:00:00', 5.559999942779541, 5.559999942779541, 5.559999942779541, 5.559999942779541, 110.0, 0.0, '0', '2021-04-12 19:56:50' ),\\n(229, '2021-03-04 15:30:00', 5.699999809265137, 5.699999809265137, 5.699999809265137, 5.699999809265137, 505.0, 0.0, '0', '2021-04-12 19:56:50' ),\\n(229, '2021-03-04 15:45:00', 5.699999809265137, 5.699999809265137, 5.699999809265137, 5.699999809265137, 0.0, 0.0, '0', '2021-04-12 19:56:50' ),\\n(229, '2021-03-05 09:30:00', 5.690000057220459, 5.690000057220459, 5.690000057220459, 5.690000057220459, 683.0, 0.0, '0', '2021-04-12 19:56:50' ),\\n(229, '2021-03-05 14:00:00', 5.599999904632568, 5.599999904632568, 5.599999904632568, 5.599999904632568, 335.0, 0.0, '0', '2021-04-12 19:56:50' ),\\n(229, '2021-03-05 14:30:00', 5.739999771118164, 5.739999771118164, 5.739999771118164, 5.739999771118164, 181.0, 0.0, '0', '2021-04-12 19:56:50' ),\\n(229, '2021-03-08 09:30:00', 5.599999904632568, 5.599999904632568, 5.599999904632568, 5.599999904632568, 3808.0, 0.0, '0', '2021-04-12 19:56:50' ),\\n(229, '2021-03-08 11:45:00', 5.550000190734863, 5.550000190734863, 5.550000190734863, 5.550000190734863, 210.0, 0.0, '0', '2021-04-12 19:56:50' ),\\n(229, '2021-03-09 09:30:00', 5.789999961853027, 5.789999961853027, 5.789999961853027, 5.789999961853027, 0.0, 0.0, '0', '2021-04-12 19:56:50' ),\\n(229, '2021-03-09 11:45:00', 5.75, 5.75, 5.75, 5.75, 210.0, 0.0, '0', '2021-04-12 19:56:50' ),\\n(229, '2021-03-09 14:45:00', 5.650000095367432, 5.650000095367432, 5.650000095367432, 5.650000095367432, 420.0, 0.0, '0', '2021-04-12 19:56:50' ),\\n(229, '2021-03-09 15:15:00', 5.699999809265137, 5.739999771118164, 5.699999809265137, 5.739999771118164, 494.0, 0.0, '0', '2021-04-12 19:56:50' ),\\n(229, '2021-03-10 10:30:00', 5.769999980926514, 5.769999980926514, 5.769999980926514, 5.769999980926514, 0.0, 0.0, '0', '2021-04-12 19:56:50' ),\\n(229, '2021-03-10 10:45:00', 5.769999980926514, 5.769999980926514, 5.769999980926514, 5.769999980926514, 820.0, 0.0, '0', '2021-04-12 19:56:50' ),\\n(229, '2021-03-10 11:00:00', 5.78000020980835, 5.78000020980835, 5.78000020980835, 5.78000020980835, 751.0, 0.0, '0', '2021-04-12 19:56:50' ),\\n(229, '2021-03-10 11:15:00', 5.78000020980835, 5.789999961853027, 5.769999980926514, 5.789999961853027, 4285.0, 0.0, '0', '2021-04-12 19:56:50' ),\\n(229, '2021-03-10 11:30:00', 5.800000190734863, 5.800000190734863, 5.800000190734863, 5.800000190734863, 311.0, 0.0, '0', '2021-04-12 19:56:50' ),\\n(229, '2021-03-11 09:30:00', 5.900000095367432, 5.900000095367432, 5.900000095367432, 5.900000095367432, 199.0, 0.0, '0', '2021-04-12 19:56:50' ),\\n(229, '2021-03-11 09:45:00', 5.855000019073486, 5.855000019073486, 5.730000019073486, 5.855000019073486, 214.0, 0.0, '0', '2021-04-12 19:56:50' ),\\n(229, '2021-03-11 11:00:00', 5.699999809265137, 5.800000190734863, 5.699999809265137, 5.800000190734863, 833.0, 0.0, '0', '2021-04-12 19:56:50' ),\\n(229, '2021-03-11 11:15:00', 5.980000019073486, 5.980000019073486, 5.980000019073486, 5.980000019073486, 103.0, 0.0, '0', '2021-04-12 19:56:50' ),\\n(229, '2021-03-11 12:30:00', 5.960000038146973, 5.960000038146973, 5.960000038146973, 5.960000038146973, 102.0, 0.0, '0', '2021-04-12 19:56:50' ),\\n(229, '2021-03-11 13:15:00', 5.728000164031982, 5.728000164031982, 5.728000164031982, 5.728000164031982, 109.0, 0.0, '0', '2021-04-12 19:56:50' ),\\n(229, '2021-03-11 15:15:00', 5.699999809265137, 5.840000152587891, 5.699999809265137, 5.75, 9467.0, 0.0, '0', '2021-04-12 19:56:50' ),\\n(229, '2021-03-12 10:15:00', 5.630000114440918, 5.630000114440918, 5.630000114440918, 5.630000114440918, 11.0, 0.0, '0', '2021-04-12 19:56:50' ),\\n(229, '2021-03-12 11:30:00', 5.550000190734863, 5.550000190734863, 5.550000190734863, 5.550000190734863, 3010.0, 0.0, '0', '2021-04-12 19:56:50' ),\\n(229, '2021-03-15 09:30:00', 5.550000190734863, 5.550000190734863, 5.550000190734863, 5.550000190734863, 2.0, 0.0, '0', '2021-04-12 19:56:50' ),\\n(229, '2021-03-15 14:45:00', 5.550000190734863, 5.550000190734863, 5.550000190734863, 5.550000190734863, 100.0, 0.0, '0', '2021-04-12 19:56:50' ),\\n(229, '2021-03-16 10:45:00', 5.550000190734863, 5.550000190734863, 5.550000190734863, 5.550000190734863, 795.0, 0.0, '0', '2021-04-12 19:56:50' ),\\n(229, '2021-03-16 13:00:00', 5.550000190734863, 5.550000190734863, 5.550000190734863, 5.550000190734863, 750.0, 0.0, '0', '2021-04-12 19:56:50' ),\\n(229, '2021-03-16 14:15:00', 5.550000190734863, 5.550000190734863, 5.550000190734863, 5.550000190734863, 5089.0, 0.0, '0', '2021-04-12 19:56:50' ),\\n(229, '2021-03-17 09:30:00', 5.550000190734863, 5.900000095367432, 5.550000190734863, 5.900000095367432, 0.0, 0.0, '0', '2021-04-12 19:56:50' ),\\n(229, '2021-03-18 09:45:00', 5.889999866485596, 5.889999866485596, 5.889999866485596, 5.889999866485596, 161.0, 0.0, '0', '2021-04-12 19:56:50' ),\\n(229, '2021-03-22 09:30:00', 5.880000114440918, 5.880000114440918, 5.880000114440918, 5.880000114440918, 90.0, 0.0, '0', '2021-04-12 19:56:50' ),\\n(229, '2021-03-23 09:30:00', 5.869999885559082, 5.869999885559082, 5.869999885559082, 5.869999885559082, 230.0, 0.0, '0', '2021-04-12 19:56:50' ),\\n(229, '2021-03-25 09:30:00', 5.800000190734863, 5.800000190734863, 5.800000190734863, 5.800000190734863, 0.0, 0.0, '0', '2021-04-12 19:56:50' ),\\n(229, '2021-03-25 11:15:00', 5.409999847412109, 5.409999847412109, 4.760000228881836, 4.760000228881836, 500.0, 0.0, '0', '2021-04-12 19:56:50' ),\\n(229, '2021-03-25 13:15:00', 5.739999771118164, 5.739999771118164, 5.739999771118164, 5.739999771118164, 110.0, 0.0, '0', '2021-04-12 19:56:50' ),\\n(229, '2021-03-26 09:30:00', 5.800000190734863, 5.800000190734863, 5.800000190734863, 5.800000190734863, 0.0, 0.0, '0', '2021-04-12 19:56:50' ),\\n(229, '2021-03-26 11:15:00', 5.739999771118164, 5.739999771118164, 5.739999771118164, 5.739999771118164, 121.0, 0.0, '0', '2021-04-12 19:56:50' ),\\n(229, '2021-03-30 09:30:00', 5.099999904632568, 5.099999904632568, 5.099999904632568, 5.099999904632568, 0.0, 0.0, '0', '2021-04-12 19:56:50' ),\\n(229, '2021-03-30 14:15:00', 5.489999771118164, 5.489999771118164, 5.489999771118164, 5.489999771118164, 271.0, 0.0, '0', '2021-04-12 19:56:50' ),\\n(229, '2021-03-30 15:30:00', 5.489999771118164, 5.489999771118164, 5.489999771118164, 5.489999771118164, 813.0, 0.0, '0', '2021-04-12 19:56:50' ),\\n(229, '2021-03-31 09:30:00', 5.099999904632568, 5.099999904632568, 5.099999904632568, 5.099999904632568, 25.0, 0.0, '0', '2021-04-12 19:56:50' ),\\n(229, '2021-03-31 12:00:00', 5.800000190734863, 5.800000190734863, 5.800000190734863, 5.800000190734863, 192.0, 0.0, '0', '2021-04-12 19:56:50' ),\\n(229, '2021-03-31 12:45:00', 5.099999904632568, 5.099999904632568, 5.099999904632568, 5.099999904632568, 140.0, 0.0, '0', '2021-04-12 19:56:50' ),\\n(229, '2021-03-31 14:30:00', 5.300000190734863, 5.300000190734863, 5.300000190734863, 5.300000190734863, 135.0, 0.0, '0', '2021-04-12 19:56:50' ),\\n(229, '2021-04-01 09:30:00', 5.099999904632568, 5.099999904632568, 5.099999904632568, 5.099999904632568, 0.0, 0.0, '0', '2021-04-12 19:56:50' ),\\n(229, '2021-04-01 10:45:00', 5.099999904632568, 5.099999904632568, 5.099999904632568, 5.099999904632568, 101.0, 0.0, '0', '2021-04-12 19:56:50' ),\\n(229, '2021-04-01 15:30:00', 5.199999809265137, 5.199999809265137, 5.150000095367432, 5.150000095367432, 306.0, 0.0, '0', '2021-04-12 19:56:50' ),\\n(229, '2021-04-05 09:30:00', 5.099999904632568, 5.099999904632568, 5.099999904632568, 5.099999904632568, 0.0, 0.0, '0', '2021-04-12 19:56:50' ),\\n(229, '2021-04-05 13:15:00', 5.199999809265137, 5.199999809265137, 5.199999809265137, 5.199999809265137, 374.0, 0.0, '0', '2021-04-12 19:56:50' ),\\n(229, '2021-04-06 13:00:00', 5.25, 5.25, 5.25, 5.25, 0.0, 0.0, '0', '2021-04-12 19:56:50' ),\\n(229, '2021-04-06 15:30:00', 5.25, 5.25, 5.25, 5.25, 300.0, 0.0, '0', '2021-04-12 19:56:50' ),\\n(229, '2021-04-06 15:45:00', 5.199999809265137, 5.199999809265137, 5.199999809265137, 5.199999809265137, 185.0, 0.0, '0', '2021-04-12 19:56:50' ),\\n(229, '2021-04-07 11:00:00', 5.099999904632568, 5.099999904632568, 5.099999904632568, 5.099999904632568, 112.0, 0.0, '0', '2021-04-12 19:56:50' ),\\n(229, '2021-04-07 14:15:00', 5.099999904632568, 5.099999904632568, 5.099999904632568, 5.099999904632568, 2226.0, 0.0, '0', '2021-04-12 19:56:50' ),\\n(229, '2021-04-08 12:15:00', 5.0, 5.0, 5.0, 5.0, 0.0, 0.0, '0', '2021-04-12 19:56:50' ),\\n(229, '2021-04-09 15:30:00', 5.0, 5.0, 5.0, 5.0, 0.0, 0.0, '0', '2021-04-12 19:56:50' );\"\n",
    "\n",
    "vals = data.splitlines()\n",
    "vals = [i.split(\",\") for i in vals]\n",
    "del vals[0]\n",
    "\n",
    "df = pd.DataFrame(vals, columns=['stock_id', 'price_datetime', 'open', 'high', 'low', 'close', 'volume', 'div.', 'stock split', 'datetime recorded'])\n",
    "df"
   ]
  },
  {
   "source": [
    "## Below, I'm trying to just add a 'datetime captured' column to the dataframe that yfinance yields and just send that over to my sqlite db.\n",
    "### Also, I need to figure out a better way of passing my sqlite3 db back and forth between my rapsberry pi and pc.\n",
    "### And no, I don't want to use MySQL, b/c for training my model it will be slow b/c the reads from the raspberry pi are slow."
   ],
   "cell_type": "markdown",
   "metadata": {}
  },
  {
   "cell_type": "code",
   "execution_count": 1,
   "metadata": {},
   "outputs": [],
   "source": [
    "import yfinance as yf\n",
    "import pandas as pd\n",
    "import sqlite3\n",
    "import datetime\n",
    "import time\n",
    "from stock import Stock\n",
    "from stock import Price\n",
    "from stock import get_current_datetime\n",
    "import numpy as np\n",
    "from sklearn.impute import KNNImputer\n",
    "\n",
    "conn = sqlite3.connect('stockPrediction.db')\n",
    "\n",
    "# get date range\n",
    "current_date = datetime.datetime.now().strftime(\"%Y-%m-%d\")\n",
    "sixty_days_ago = (datetime.datetime.now() - datetime.timedelta(days=59)).strftime(\"%Y-%m-%d\")\n",
    "\n",
    "# API call\n",
    "data = yf.Ticker('BEBE')\n",
    "data = data.history(\n",
    "    start = sixty_days_ago,\n",
    "    end = current_date,\n",
    "    interval = '15m',\n",
    "    auto_adjust = True\n",
    ")\n",
    "\n",
    "# add columns for datetime retrived and stock_ID\n",
    "# for this test, stock_id is static b/c the symbol we're using is static\n",
    "data['datetime_added'] = get_current_datetime()\n",
    "data['stock_id'] = 229\n",
    "\n",
    "# turns the datetime index to a column, so it's actually useful for us\n",
    "data.reset_index(level=0, inplace=True)\n",
    "\n",
    "# rename to match our db\n",
    "data = data.rename(columns={\n",
    "    'Datetime': 'price_datetime',\n",
    "    'Open': 'open_price', \n",
    "    'High': 'high_price', \n",
    "    'Low': 'low_price',\n",
    "    'Close': 'close_price',\n",
    "    'Volume': 'volume',\n",
    "    'Dividends': 'dividends',\n",
    "    'Stock Splits': 'stock_splits'\n",
    "})\n",
    "\n",
    "# convert datetime values to string\n",
    "data['price_datetime'] = data['price_datetime'].apply(lambda x: x.strftime(\"%Y-%m-%d %H:%M:%S\"))\n",
    "\n",
    "# fill in np.nan's\n",
    "impute_columns = []\n",
    "imputer = KNNImputer(n_neighbors=2, weights='uniform')\n",
    "imputed_data = imputer.fit_transform(data[['open_price', 'high_price', 'low_price', 'close_price', 'volume', 'dividends']])\n",
    "clean_data = pd.DataFrame(imputed_data, columns=['open_price', 'high_price', 'low_price', 'close_price', 'volume', 'dividends'])\n",
    "\n",
    "# copy the cleaned data into our dataframe\n",
    "data['open_price'] = clean_data['open_price']\n",
    "data['high_price'] = clean_data['high_price']\n",
    "data['low_price'] = clean_data['low_price']\n",
    "data['close_price'] = clean_data['close_price']\n",
    "data['volume'] = clean_data['volume']\n",
    "data['dividends'] = clean_data['dividends']\n",
    "\n",
    "# add in the price_datetime, stock split, and stock_id\n",
    "# clean_data['price_datetime'] = data['price_datetime']\n",
    "# clean_data['stock_splits'] = data['stock_splits']\n",
    "# clean_data['stock_id'] = data['stock_id']\n",
    "\n",
    "# data.to_sql('price_history', conn, if_exists='append', index=False)"
   ]
  },
  {
   "cell_type": "code",
   "execution_count": null,
   "metadata": {},
   "outputs": [],
   "source": [
    "type(data['price_datetime'].loc[0])"
   ]
  },
  {
   "cell_type": "code",
   "execution_count": null,
   "metadata": {},
   "outputs": [],
   "source": [
    "data['open_price'].iloc[100] == clean_data['open_price'].iloc[100]"
   ]
  },
  {
   "cell_type": "code",
   "execution_count": 3,
   "metadata": {},
   "outputs": [
    {
     "output_type": "stream",
     "name": "stdout",
     "text": [
      "- CEL: No data found for this date range, symbol may be delisted\n"
     ]
    },
    {
     "output_type": "execute_result",
     "data": {
      "text/plain": [
       "0"
      ]
     },
     "metadata": {},
     "execution_count": 3
    }
   ],
   "source": [
    "import yfinance as yf\n",
    "import datetime\n",
    "\n",
    "current_date = datetime.datetime.now().strftime(\"%Y-%m-%d\")\n",
    "sixty_days_ago = (datetime.datetime.now() - datetime.timedelta(days=59)).strftime(\"%Y-%m-%d\")\n",
    "\n",
    "data = yf.Ticker('CEL')\n",
    "data = data.history(\n",
    "            start = sixty_days_ago,\n",
    "            end = current_date,\n",
    "            interval = '15m',\n",
    "            auto_adjust = True\n",
    "        )\n",
    "len(data)"
   ]
  }
 ]
}