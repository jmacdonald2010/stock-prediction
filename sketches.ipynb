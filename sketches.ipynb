{
 "metadata": {
  "language_info": {
   "codemirror_mode": {
    "name": "ipython",
    "version": 3
   },
   "file_extension": ".py",
   "mimetype": "text/x-python",
   "name": "python",
   "nbconvert_exporter": "python",
   "pygments_lexer": "ipython3",
   "version": "3.8.5"
  },
  "orig_nbformat": 2,
  "kernelspec": {
   "name": "python385jvsc74a57bd0dca0ade3e726a953b501b15e8e990130d2b7799f14cfd9f4271676035ebe5511",
   "display_name": "Python 3.8.5 64-bit ('base': conda)"
  }
 },
 "nbformat": 4,
 "nbformat_minor": 2,
 "cells": [
  {
   "cell_type": "code",
   "execution_count": 1,
   "metadata": {},
   "outputs": [],
   "source": [
    "import yfinance as yf\n",
    "import datetime\n",
    "import time\n",
    "\n",
    "aapl = yf.Ticker('AAPL')"
   ]
  },
  {
   "cell_type": "code",
   "execution_count": 16,
   "metadata": {},
   "outputs": [
    {
     "output_type": "execute_result",
     "data": {
      "text/plain": [
       "{'zip': '95014',\n",
       " 'sector': 'Technology',\n",
       " 'fullTimeEmployees': 147000,\n",
       " 'longBusinessSummary': 'Apple Inc. designs, manufactures, and markets smartphones, personal computers, tablets, wearables, and accessories worldwide. It also sells various related services. The company offers iPhone, a line of smartphones; Mac, a line of personal computers; iPad, a line of multi-purpose tablets; and wearables, home, and accessories comprising AirPods, Apple TV, Apple Watch, Beats products, HomePod, iPod touch, and other Apple-branded and third-party accessories. It also provides AppleCare support services; cloud services store services; and operates various platforms, including the App Store, that allow customers to discover and download applications and digital content, such as books, music, video, games, and podcasts. In addition, the company offers various services, such as Apple Arcade, a game subscription service; Apple Music, which offers users a curated listening experience with on-demand radio stations; Apple News+, a subscription news and magazine service; Apple TV+, which offers exclusive original content; Apple Card, a co-branded credit card; and Apple Pay, a cashless payment service, as well as licenses its intellectual property. The company serves consumers, and small and mid-sized businesses; and the education, enterprise, and government markets. It sells and delivers third-party applications for its products through the App Store. The company also sells its products through its retail and online stores, and direct sales force; and third-party cellular network carriers, wholesalers, retailers, and resellers. Apple Inc. was founded in 1977 and is headquartered in Cupertino, California.',\n",
       " 'city': 'Cupertino',\n",
       " 'phone': '408-996-1010',\n",
       " 'state': 'CA',\n",
       " 'country': 'United States',\n",
       " 'companyOfficers': [],\n",
       " 'website': 'http://www.apple.com',\n",
       " 'maxAge': 1,\n",
       " 'address1': 'One Apple Park Way',\n",
       " 'industry': 'Consumer Electronics',\n",
       " 'previousClose': 126.21,\n",
       " 'regularMarketOpen': 125.83,\n",
       " 'twoHundredDayAverage': 123.509705,\n",
       " 'trailingAnnualDividendYield': 0.006394105,\n",
       " 'payoutRatio': 0.2177,\n",
       " 'volume24Hr': None,\n",
       " 'regularMarketDayHigh': 127.92,\n",
       " 'navPrice': None,\n",
       " 'averageDailyVolume10Day': 87981116,\n",
       " 'totalAssets': None,\n",
       " 'regularMarketPreviousClose': 126.21,\n",
       " 'fiftyDayAverage': 123.46343,\n",
       " 'trailingAnnualDividendRate': 0.807,\n",
       " 'open': 125.83,\n",
       " 'toCurrency': None,\n",
       " 'averageVolume10days': 87981116,\n",
       " 'expireDate': None,\n",
       " 'yield': None,\n",
       " 'algorithm': None,\n",
       " 'dividendRate': 0.82,\n",
       " 'exDividendDate': 1612483200,\n",
       " 'beta': 1.219525,\n",
       " 'circulatingSupply': None,\n",
       " 'startDate': None,\n",
       " 'regularMarketDayLow': 125.14,\n",
       " 'priceHint': 2,\n",
       " 'currency': 'USD',\n",
       " 'trailingPE': 34.68945,\n",
       " 'regularMarketVolume': 83466616,\n",
       " 'lastMarket': None,\n",
       " 'maxSupply': None,\n",
       " 'openInterest': None,\n",
       " 'marketCap': 2147198042112,\n",
       " 'volumeAllCurrencies': None,\n",
       " 'strikePrice': None,\n",
       " 'averageVolume': 107639060,\n",
       " 'priceToSalesTrailing12Months': 7.3000426,\n",
       " 'dayLow': 125.14,\n",
       " 'ask': 128.4,\n",
       " 'ytdReturn': None,\n",
       " 'askSize': 900,\n",
       " 'volume': 83466616,\n",
       " 'fiftyTwoWeekHigh': 145.09,\n",
       " 'forwardPE': 27.212767,\n",
       " 'fromCurrency': None,\n",
       " 'fiveYearAvgDividendYield': 1.39,\n",
       " 'fiftyTwoWeekLow': 65.3075,\n",
       " 'bid': 128.37,\n",
       " 'tradeable': False,\n",
       " 'dividendYield': 0.0064999997,\n",
       " 'bidSize': 800,\n",
       " 'dayHigh': 127.92,\n",
       " 'exchange': 'NMS',\n",
       " 'shortName': 'Apple Inc.',\n",
       " 'longName': 'Apple Inc.',\n",
       " 'exchangeTimezoneName': 'America/New_York',\n",
       " 'exchangeTimezoneShortName': 'EDT',\n",
       " 'isEsgPopulated': False,\n",
       " 'gmtOffSetMilliseconds': '-14400000',\n",
       " 'quoteType': 'EQUITY',\n",
       " 'symbol': 'AAPL',\n",
       " 'messageBoardId': 'finmb_24937',\n",
       " 'market': 'us_market',\n",
       " 'annualHoldingsTurnover': None,\n",
       " 'enterpriseToRevenue': 7.323,\n",
       " 'beta3Year': None,\n",
       " 'profitMargins': 0.21735,\n",
       " 'enterpriseToEbitda': 25.294,\n",
       " '52WeekChange': 0.8973954,\n",
       " 'morningStarRiskRating': None,\n",
       " 'forwardEps': 4.7,\n",
       " 'revenueQuarterlyGrowth': None,\n",
       " 'sharesOutstanding': 16788100096,\n",
       " 'fundInceptionDate': None,\n",
       " 'annualReportExpenseRatio': None,\n",
       " 'bookValue': 3.936,\n",
       " 'sharesShort': 107011007,\n",
       " 'sharesPercentSharesOut': 0.0064,\n",
       " 'fundFamily': None,\n",
       " 'lastFiscalYearEnd': 1601078400,\n",
       " 'heldPercentInstitutions': 0.59790003,\n",
       " 'netIncomeToCommon': 63929999360,\n",
       " 'trailingEps': 3.687,\n",
       " 'lastDividendValue': 0.205,\n",
       " 'SandP52WeekChange': 0.48144352,\n",
       " 'priceToBook': 32.49492,\n",
       " 'heldPercentInsiders': 0.00075999997,\n",
       " 'nextFiscalYearEnd': 1664150400,\n",
       " 'mostRecentQuarter': 1608940800,\n",
       " 'shortRatio': 0.89,\n",
       " 'sharesShortPreviousMonthDate': 1613088000,\n",
       " 'floatShares': 16770804261,\n",
       " 'enterpriseValue': 2154042621952,\n",
       " 'threeYearAverageReturn': None,\n",
       " 'lastSplitDate': 1598832000,\n",
       " 'lastSplitFactor': '4:1',\n",
       " 'legalType': None,\n",
       " 'lastDividendDate': 1612483200,\n",
       " 'morningStarOverallRating': None,\n",
       " 'earningsQuarterlyGrowth': 0.293,\n",
       " 'dateShortInterest': 1615766400,\n",
       " 'pegRatio': 1.84,\n",
       " 'lastCapGain': None,\n",
       " 'shortPercentOfFloat': 0.0064,\n",
       " 'sharesShortPriorMonth': 88329668,\n",
       " 'impliedSharesOutstanding': None,\n",
       " 'category': None,\n",
       " 'fiveYearAverageReturn': None,\n",
       " 'regularMarketPrice': 125.83,\n",
       " 'logo_url': 'https://logo.clearbit.com/apple.com'}"
      ]
     },
     "metadata": {},
     "execution_count": 16
    }
   ],
   "source": [
    "aapl.info"
   ]
  },
  {
   "cell_type": "code",
   "execution_count": 20,
   "metadata": {},
   "outputs": [
    {
     "output_type": "execute_result",
     "data": {
      "text/plain": [
       "'Technology'"
      ]
     },
     "metadata": {},
     "execution_count": 20
    }
   ],
   "source": [
    "aapl.info['sector']"
   ]
  },
  {
   "cell_type": "code",
   "execution_count": 9,
   "metadata": {},
   "outputs": [
    {
     "output_type": "execute_result",
     "data": {
      "text/plain": [
       "                                 Open        High         Low       Close  \\\n",
       "Datetime                                                                    \n",
       "2021-02-08 09:30:00-05:00  136.029999  136.250000  134.940094  135.736206   \n",
       "2021-02-08 09:45:00-05:00  135.625000  135.800003  135.360001  135.690002   \n",
       "2021-02-08 10:00:00-05:00  135.679993  136.309998  135.600006  135.958405   \n",
       "2021-02-08 10:15:00-05:00  135.960007  136.220001  135.720993  135.910004   \n",
       "2021-02-08 10:30:00-05:00  135.909393  136.630005  135.880005  136.590805   \n",
       "...                               ...         ...         ...         ...   \n",
       "2021-04-05 14:45:00-04:00  125.848503  125.910004  125.599998  125.629997   \n",
       "2021-04-05 15:00:00-04:00  125.635002  125.720001  125.464996  125.628403   \n",
       "2021-04-05 15:15:00-04:00  125.625000  125.820000  125.480003  125.549004   \n",
       "2021-04-05 15:30:00-04:00  125.544998  125.640099  125.310097  125.610001   \n",
       "2021-04-05 15:45:00-04:00  125.610001  126.000000  125.500000  125.900002   \n",
       "\n",
       "                             Volume  Dividends  Stock Splits  \n",
       "Datetime                                                      \n",
       "2021-02-08 09:30:00-05:00  10408110          0             0  \n",
       "2021-02-08 09:45:00-05:00   4316546          0             0  \n",
       "2021-02-08 10:00:00-05:00   3860834          0             0  \n",
       "2021-02-08 10:15:00-05:00   2529242          0             0  \n",
       "2021-02-08 10:30:00-05:00   2967968          0             0  \n",
       "...                             ...        ...           ...  \n",
       "2021-04-05 14:45:00-04:00   1875123          0             0  \n",
       "2021-04-05 15:00:00-04:00   2353948          0             0  \n",
       "2021-04-05 15:15:00-04:00   2312180          0             0  \n",
       "2021-04-05 15:30:00-04:00   3149679          0             0  \n",
       "2021-04-05 15:45:00-04:00   6086586          0             0  \n",
       "\n",
       "[1014 rows x 7 columns]"
      ],
      "text/html": "<div>\n<style scoped>\n    .dataframe tbody tr th:only-of-type {\n        vertical-align: middle;\n    }\n\n    .dataframe tbody tr th {\n        vertical-align: top;\n    }\n\n    .dataframe thead th {\n        text-align: right;\n    }\n</style>\n<table border=\"1\" class=\"dataframe\">\n  <thead>\n    <tr style=\"text-align: right;\">\n      <th></th>\n      <th>Open</th>\n      <th>High</th>\n      <th>Low</th>\n      <th>Close</th>\n      <th>Volume</th>\n      <th>Dividends</th>\n      <th>Stock Splits</th>\n    </tr>\n    <tr>\n      <th>Datetime</th>\n      <th></th>\n      <th></th>\n      <th></th>\n      <th></th>\n      <th></th>\n      <th></th>\n      <th></th>\n    </tr>\n  </thead>\n  <tbody>\n    <tr>\n      <th>2021-02-08 09:30:00-05:00</th>\n      <td>136.029999</td>\n      <td>136.250000</td>\n      <td>134.940094</td>\n      <td>135.736206</td>\n      <td>10408110</td>\n      <td>0</td>\n      <td>0</td>\n    </tr>\n    <tr>\n      <th>2021-02-08 09:45:00-05:00</th>\n      <td>135.625000</td>\n      <td>135.800003</td>\n      <td>135.360001</td>\n      <td>135.690002</td>\n      <td>4316546</td>\n      <td>0</td>\n      <td>0</td>\n    </tr>\n    <tr>\n      <th>2021-02-08 10:00:00-05:00</th>\n      <td>135.679993</td>\n      <td>136.309998</td>\n      <td>135.600006</td>\n      <td>135.958405</td>\n      <td>3860834</td>\n      <td>0</td>\n      <td>0</td>\n    </tr>\n    <tr>\n      <th>2021-02-08 10:15:00-05:00</th>\n      <td>135.960007</td>\n      <td>136.220001</td>\n      <td>135.720993</td>\n      <td>135.910004</td>\n      <td>2529242</td>\n      <td>0</td>\n      <td>0</td>\n    </tr>\n    <tr>\n      <th>2021-02-08 10:30:00-05:00</th>\n      <td>135.909393</td>\n      <td>136.630005</td>\n      <td>135.880005</td>\n      <td>136.590805</td>\n      <td>2967968</td>\n      <td>0</td>\n      <td>0</td>\n    </tr>\n    <tr>\n      <th>...</th>\n      <td>...</td>\n      <td>...</td>\n      <td>...</td>\n      <td>...</td>\n      <td>...</td>\n      <td>...</td>\n      <td>...</td>\n    </tr>\n    <tr>\n      <th>2021-04-05 14:45:00-04:00</th>\n      <td>125.848503</td>\n      <td>125.910004</td>\n      <td>125.599998</td>\n      <td>125.629997</td>\n      <td>1875123</td>\n      <td>0</td>\n      <td>0</td>\n    </tr>\n    <tr>\n      <th>2021-04-05 15:00:00-04:00</th>\n      <td>125.635002</td>\n      <td>125.720001</td>\n      <td>125.464996</td>\n      <td>125.628403</td>\n      <td>2353948</td>\n      <td>0</td>\n      <td>0</td>\n    </tr>\n    <tr>\n      <th>2021-04-05 15:15:00-04:00</th>\n      <td>125.625000</td>\n      <td>125.820000</td>\n      <td>125.480003</td>\n      <td>125.549004</td>\n      <td>2312180</td>\n      <td>0</td>\n      <td>0</td>\n    </tr>\n    <tr>\n      <th>2021-04-05 15:30:00-04:00</th>\n      <td>125.544998</td>\n      <td>125.640099</td>\n      <td>125.310097</td>\n      <td>125.610001</td>\n      <td>3149679</td>\n      <td>0</td>\n      <td>0</td>\n    </tr>\n    <tr>\n      <th>2021-04-05 15:45:00-04:00</th>\n      <td>125.610001</td>\n      <td>126.000000</td>\n      <td>125.500000</td>\n      <td>125.900002</td>\n      <td>6086586</td>\n      <td>0</td>\n      <td>0</td>\n    </tr>\n  </tbody>\n</table>\n<p>1014 rows × 7 columns</p>\n</div>"
     },
     "metadata": {},
     "execution_count": 9
    }
   ],
   "source": [
    "# get current date and date 60 days ago\n",
    "current_date = datetime.datetime.now()\n",
    "current_date = current_date.strftime(\"%Y-%m-%d\")\n",
    "sixty_days_ago = (datetime.datetime.now() - datetime.timedelta(days=59))\n",
    "sixty_days_ago = sixty_days_ago.strftime('%Y-%m-%d')\n",
    "\n",
    "aapl.history(interval='15m', auto_adjust=True, start=sixty_days_ago, end=current_date)"
   ]
  },
  {
   "cell_type": "code",
   "execution_count": 2,
   "metadata": {},
   "outputs": [],
   "source": [
    "# import SQLite\n",
    "\n",
    "import sqlite3\n",
    "from sqlite3 import Error\n",
    "\n",
    "conn = sqlite3.connect('stockPrediction.db')"
   ]
  },
  {
   "cell_type": "code",
   "execution_count": 13,
   "metadata": {},
   "outputs": [
    {
     "output_type": "execute_result",
     "data": {
      "text/plain": [
       "<sqlite3.Cursor at 0x123c16f10>"
      ]
     },
     "metadata": {},
     "execution_count": 13
    }
   ],
   "source": [
    "# build SQLite tables\n",
    "\n",
    "# build table if not exists\n",
    "\n",
    "# table for sectors, industries\n",
    "conn.execute('''CREATE TABLE IF NOT EXISTS sector (\n",
    "    sector_id INTEGER PRIMARY KEY AUTOINCREMENT NOT NULL,\n",
    "    sector TEXT NOT NULL\n",
    ");\n",
    "''')\n",
    "\n",
    "conn.execute('''CREATE TABLE IF NOT EXISTS industry (\n",
    "    industry_id INTEGER PRIMARY KEY AUTOINCREMENT NOT NULL,\n",
    "    industry TEXT NOT NULL\n",
    ");\n",
    "''')\n",
    "\n",
    "# stock table\n",
    "conn.execute('''CREATE TABLE IF NOT EXISTS stock (\n",
    "    stock_id INTEGER PRIMARY KEY AUTOINCREMENT NOT NULL,\n",
    "    stock_symbol TEXT NOT NULL,\n",
    "    short_name TEXT,\n",
    "    full_name TEXT,\n",
    "    sector_id TEXT,\n",
    "    industry_id TEXT,\n",
    "    datetime_added TEXT NOT NULL,\n",
    "    FOREIGN KEY (sector_id)\n",
    "        REFERENCES sector (sector_id)\n",
    "        ON UPDATE CASCADE\n",
    "        ON DELETE CASCADE,\n",
    "    FOREIGN KEY (industry_ID)\n",
    "        REFERENCES industry (industry_id)\n",
    "        ON UPDATE CASCADE\n",
    "        ON DELETE CASCADE\n",
    ");''')\n",
    "\n",
    "conn.execute('''CREATE TABLE IF NOT EXISTS price_history (\n",
    "    price_id INTEGER PRIMARY KEY AUTOINCREMENT NOT NULL,\n",
    "    stock_id INTEGER NOT NULL,\n",
    "    price_datetime TEXT NOT NULL,\n",
    "    open_price REAL NOT NULL,\n",
    "    high_price REAL NOT NULL,\n",
    "    low_price REAL NOT NULL,\n",
    "    close_price REAL NOT NULL,\n",
    "    volume INTEGER NOT NULL,\n",
    "    dividends REAL,\n",
    "    stock_splits TEXT,\n",
    "    datetime_added TEXT NOT NULL,\n",
    "    FOREIGN KEY (stock_id)\n",
    "        REFERENCES stock (stock_id)\n",
    "        ON UPDATE CASCADE\n",
    "        ON DELETE CASCADE\n",
    ");\n",
    "''')\n",
    "\n"
   ]
  },
  {
   "source": [
    "## Add the stocks from a text file to the database, and get info regarding their sectors, industries, etc."
   ],
   "cell_type": "markdown",
   "metadata": {}
  },
  {
   "cell_type": "code",
   "execution_count": 16,
   "metadata": {},
   "outputs": [
    {
     "output_type": "error",
     "ename": "OperationalError",
     "evalue": "near \")\": syntax error",
     "traceback": [
      "\u001b[0;31m---------------------------------------------------------------------------\u001b[0m",
      "\u001b[0;31mOperationalError\u001b[0m                          Traceback (most recent call last)",
      "\u001b[0;32m<ipython-input-16-33a41b97ffc1>\u001b[0m in \u001b[0;36m<module>\u001b[0;34m\u001b[0m\n\u001b[1;32m     33\u001b[0m \u001b[0;34m\u001b[0m\u001b[0m\n\u001b[1;32m     34\u001b[0m     \u001b[0;31m# add the symbol to the db\u001b[0m\u001b[0;34m\u001b[0m\u001b[0;34m\u001b[0m\u001b[0;34m\u001b[0m\u001b[0m\n\u001b[0;32m---> 35\u001b[0;31m     \u001b[0mconn\u001b[0m\u001b[0;34m.\u001b[0m\u001b[0mexecute\u001b[0m\u001b[0;34m(\u001b[0m\u001b[0;34mf\"INSERT INTO stock (stock_symbol, short_name, full_name, sector_id, industry_id, datetime_added) VALUES ('{symbol.symbol}', '{symbol.short_name}', '{symbol.full_name}', {symbol.sector_id}, {symbol.industry_id}, '{get_current_datetime()}')\"\u001b[0m\u001b[0;34m)\u001b[0m\u001b[0;34m\u001b[0m\u001b[0;34m\u001b[0m\u001b[0m\n\u001b[0m\u001b[1;32m     36\u001b[0m     \u001b[0mprint\u001b[0m\u001b[0;34m(\u001b[0m\u001b[0;34mf'Wrote {symbol.symbol} to the DB'\u001b[0m\u001b[0;34m)\u001b[0m\u001b[0;34m\u001b[0m\u001b[0;34m\u001b[0m\u001b[0m\n\u001b[1;32m     37\u001b[0m \u001b[0;34m\u001b[0m\u001b[0m\n",
      "\u001b[0;31mOperationalError\u001b[0m: near \")\": syntax error"
     ]
    }
   ],
   "source": [
    "from stock import Stock\n",
    "from stock import Price\n",
    "from stock import get_current_datetime\n",
    "import sqlite3\n",
    "from sqlite3 import Error\n",
    "\n",
    "conn = sqlite3.connect('stockPrediction.db')\n",
    "\n",
    "# open a list of symbols, each symbol as a single line\n",
    "symbols = open('allUnderFiveDollarsAndPrevOwned - Copy.txt')\n",
    "\n",
    "# loop thru the symbols\n",
    "for symbol in symbols:\n",
    "\n",
    "    symbol = symbol.strip('\\n')\n",
    "\n",
    "    # call to yf to get the data\n",
    "    data = yf.Ticker(symbol)\n",
    "\n",
    "    # take the data and create a new Stock object w/ it, just to keep organized and help myself w/ OOP\n",
    "    # try/except block for symbols that have since been delisted\n",
    "    try:\n",
    "        symbol = Stock(symbol, short_name=data.info['shortName'], full_name=data.info['longName'], sector=data.info['sector'], industry=data.info['industry'])\n",
    "    except KeyError:\n",
    "        print(f'{symbol} no longer a listed security')\n",
    "        continue\n",
    "\n",
    "\n",
    "    # check to see if this security's industry/sector are already in the DB, if not, add them\n",
    "    # must have a DB connection open prior to running loop\n",
    "    symbol.check_industry(symbol.industry, conn)\n",
    "    symbol.check_sector(symbol.sector, conn)\n",
    "\n",
    "    # add the symbol to the db\n",
    "    conn.execute(f\"INSERT INTO stock (stock_symbol, short_name, full_name, sector_id, industry_id, datetime_added) VALUES ('{symbol.symbol}', '{symbol.short_name}', '{symbol.full_name}', {symbol.sector_id}, {symbol.industry_id}, '{get_current_datetime()}')\")\n",
    "    print(f'Wrote {symbol.symbol} to the DB')\n",
    "\n",
    "    # pause to not get us blocked by yf\n",
    "    time.sleep(3)"
   ]
  },
  {
   "cell_type": "code",
   "execution_count": 2,
   "metadata": {},
   "outputs": [],
   "source": [
    "# this is me testing my stock class\n",
    "from stock import Stock\n",
    "from stock import Price\n",
    "\n",
    "aapl = Stock('AAPL')\n"
   ]
  },
  {
   "cell_type": "code",
   "execution_count": 3,
   "metadata": {},
   "outputs": [
    {
     "output_type": "stream",
     "name": "stdout",
     "text": [
      "AAPL\n"
     ]
    }
   ],
   "source": [
    "print(aapl.symbol)"
   ]
  },
  {
   "cell_type": "code",
   "execution_count": 4,
   "metadata": {},
   "outputs": [],
   "source": [
    "aapl.short_name = 'Apple Inc.'"
   ]
  },
  {
   "cell_type": "code",
   "execution_count": 5,
   "metadata": {},
   "outputs": [
    {
     "output_type": "stream",
     "name": "stdout",
     "text": [
      "Apple Inc.\n"
     ]
    }
   ],
   "source": [
    "print(aapl.short_name)"
   ]
  },
  {
   "cell_type": "code",
   "execution_count": 10,
   "metadata": {},
   "outputs": [
    {
     "output_type": "execute_result",
     "data": {
      "text/plain": [
       "'BLPH'"
      ]
     },
     "metadata": {},
     "execution_count": 10
    }
   ],
   "source": [
    "symbol.symbol"
   ]
  },
  {
   "cell_type": "code",
   "execution_count": 18,
   "metadata": {},
   "outputs": [
    {
     "output_type": "execute_result",
     "data": {
      "text/plain": [
       "(1,)"
      ]
     },
     "metadata": {},
     "execution_count": 18
    }
   ],
   "source": [
    "symbol.sector_id"
   ]
  }
 ]
}